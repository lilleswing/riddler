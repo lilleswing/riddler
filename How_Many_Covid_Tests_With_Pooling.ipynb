{
 "cells": [
  {
   "cell_type": "code",
   "execution_count": 53,
   "metadata": {},
   "outputs": [],
   "source": [
    "import numpy as np\n",
    "from scipy import stats\n",
    "import matplotlib.pyplot as plt\n",
    "%matplotlib inline"
   ]
  },
  {
   "cell_type": "markdown",
   "metadata": {},
   "source": [
    "I thought that test [pooling](https://www.cnn.com/2020/06/26/politics/anthony-fauci-testing-coronavirus-task-force/index.html) was a cool and clever idea after Fauci said that the task force was seriously considering it.\n",
    "To my understanding test pooling is mixing in multiple samples and then running them through the assay machine together.  The advantage of this would be that if everyone in the pool was negative the machine would read negative and you would get an *n* time speedup through the machine.  In Fauci's breifing he said machines could handle up to 10 samples at a time.\n",
    "If a test came up positive you would then one at a time go through the members of the pool and retest them.\n",
    "With a low enough background rate and a correct size pool we can test more people with the same number of assay machines.\n",
    "However it would come at the cost of 2x the number of swabs per person -- or requiring people to come back to give a second swab after the initial test came back positive.\n",
    "\n",
    "I wanted to get an upper bound for how much a strategy like this could help so I simulated it out."
   ]
  },
  {
   "cell_type": "code",
   "execution_count": 49,
   "metadata": {},
   "outputs": [],
   "source": [
    "def wilson_cc_confidence(hits, num_samples, alpha=0.05):\n",
    "    \"\"\"\n",
    "    :param hits: number Number of actives\n",
    "    :param num_samples: number Number of total samples\n",
    "    :param alpha: 1 - confidence interval size\n",
    "    :return: (confidence_low, confidence_high)\n",
    "    get confidence limits for proportion\n",
    "    using wilson score method w/ cont correction\n",
    "    i.e. Method 4 in Newcombe [1];\n",
    "    \"\"\"\n",
    "\n",
    "    n = num_samples\n",
    "    p = hits / n\n",
    "    q = 1. - p\n",
    "    z = stats.norm.isf(alpha / 2.)\n",
    "    z2 = z**2\n",
    "    denom = 2 * (n + z2)\n",
    "    num = 2. * n * p + z2 - 1. - z * np.sqrt(z2 - 2 - 1. / n + 4 * p *\n",
    "                                             (n * q + 1))\n",
    "    ci_l = num / denom\n",
    "    num = 2. * n * p + z2 + 1. + z * np.sqrt(z2 + 2 - 1. / n + 4 * p *\n",
    "                                             (n * q - 1))\n",
    "    ci_u = num / denom\n",
    "    if p == 0:\n",
    "        ci_l = 0.\n",
    "    elif p == 1:\n",
    "        ci_u = 1.\n",
    "    return ci_l, ci_u\n",
    "\n",
    "def bootstrap_confidence(hits, samples):\n",
    "    hit_bs = []\n",
    "    l = [1] * hits + [0] * (samples -  hits)\n",
    "    for i in range(10_000):\n",
    "        l1 = np.random.choice(l, len(l))\n",
    "        hit_bs.append(np.sum(l1)/samples)\n",
    "    return np.percentile(hit_bs,5), np.percentile(hit_bs, 95)"
   ]
  },
  {
   "cell_type": "code",
   "execution_count": 46,
   "metadata": {},
   "outputs": [],
   "source": [
    "class Runner(object):\n",
    "    def __init__(self, background_rate):\n",
    "        self.background_rate = background_rate\n",
    "\n",
    "    def run_many_trials(self, batch_size, num_samples=10_000):\n",
    "        results = []\n",
    "        for i in range(num_samples):\n",
    "            results.append(self.run_trial(batch_size))\n",
    "        avg_tests = np.mean(results)\n",
    "        tests_per_person = avg_tests / batch_size\n",
    "        return tests_per_person\n",
    "        \n",
    "        \n",
    "    def create_infections(self, batch_size):\n",
    "        v = np.random.random(size=batch_size)\n",
    "        v = v < self.background_rate\n",
    "        return v\n",
    "    \n",
    "    def run_trial(self, batch_size):\n",
    "        people = self.create_infections(batch_size)\n",
    "        if sum(people) == 0:\n",
    "            return 1\n",
    "        return 1 + batch_size\n",
    "    \n",
    "    def run(self):\n",
    "        results = []\n",
    "        for batch_size in range(1,10):\n",
    "            results.append(self.run_many_trials(batch_size))\n",
    "        return min(results), results"
   ]
  },
  {
   "cell_type": "code",
   "execution_count": 47,
   "metadata": {},
   "outputs": [],
   "source": [
    "runner = Runner(0.03)\n",
    "ttp, plt_data = runner.run()"
   ]
  },
  {
   "cell_type": "code",
   "execution_count": 48,
   "metadata": {},
   "outputs": [
    {
     "data": {
      "text/plain": [
       "[<matplotlib.lines.Line2D at 0x7f9cc8355390>]"
      ]
     },
     "execution_count": 48,
     "metadata": {},
     "output_type": "execute_result"
    },
    {
     "data": {
      "image/png": "[encoded data removed]",
      "text/plain": [
       "<Figure size 432x288 with 1 Axes>"
      ]
     },
     "metadata": {
      "needs_background": "light"
     },
     "output_type": "display_data"
    }
   ],
   "source": [
    "plt.grid()\n",
    "plt.title(\"Avg Tests Per Person vs Pool Size\")\n",
    "plt.xlabel('Pool Size')\n",
    "plt.ylabel(\"Avg Tests Per Person\")\n",
    "plt.plot(range(1,10), plt_data)"
   ]
  },
  {
   "cell_type": "markdown",
   "metadata": {},
   "source": [
    "Important assumptions for this analysis --\n",
    "1. 3% of the country has covid right now\n",
    "\n",
    "This is a number that I kinda made up.  Later we are going to get a couple of different ways that we can estimate this.\n",
    "\n",
    "2. We know nothing about an individual that would increase or decrease this background rate -- (the samples are i.i.d)\n",
    "\n",
    "In an ideal pooling strategy we have an oracle who knows apriori whether an individual has covid or not.  If we know this we can send positive patients through one at a time and then negative patients through 10 at a time.  As the background rate decreases we want to increase pool size.  For all analysis here we assume that the patient outcomes are independent and identically distributed random variables.  We know this is not true.  We can easily condition these probabilities on a questionaire, to get better results.\n",
    "\n",
    "With these settings we should set a batch size of 6 to only require ~1/3 of a test per person.  That is a pretty big speedup for relatively little work!  Also because of (2) that this assumes i.i.d this is an upper bound estimate of the testing efficiency speed up.\n",
    "\n",
    "### Is 3% Testing Positive today (06/29/2020) a good guess?\n",
    "\n",
    "The NBA is returning to soon, and as a preliminary step tested all of the players who will play in Orlando.  In the tests 16 or 302 players tested positive.  This is a good sample in the fact that these players were selected not because they had symptoms but instead they were choosen independent of showing symptoms.  There are a number of reasons that the rate of NBA players might not be representative of the country as a whole but lets ignore that for now and take a 95% confidence interval of the true rate of NBA players assuming i.i.d and use that as bounds for the U.S.\n",
    "\n",
    "Here we will use the [Wilson Score Interval With Continuity Correction](https://en.wikipedia.org/wiki/Binomial_proportion_confidence_interval#:~:text=a%20score%20test.-,Wilson%20score%20interval%20with%20continuity%20correction,probability%2C%20with%20the%20nominal%20value.) and a [bootstrap confidence interval](https://en.wikipedia.org/wiki/Bootstrapping_(statistics)#Deriving_confidence_intervals_from_the_bootstrap_distribution)."
   ]
  },
  {
   "cell_type": "code",
   "execution_count": 55,
   "metadata": {},
   "outputs": [
    {
     "name": "stdout",
     "output_type": "stream",
     "text": [
      "Wilson CC Confidence Interval (0.031596180714027575, 0.08630723905083608)\n",
      "Bootstrap Confidence Interval (0.033112582781456956, 0.076158940397351)\n"
     ]
    }
   ],
   "source": [
    "print(f\"Wilson CC Confidence Interval {wilson_cc_confidence(16,302)}\")\n",
    "print(f\"Bootstrap Confidence Interval {bootstrap_confidence(16,302)}\")"
   ]
  },
  {
   "cell_type": "markdown",
   "metadata": {},
   "source": [
    "So using this data we can estimate that the background rate is ~3%-8.7%.  This is more dire than my initial gut estimate.  What happens to our testing efficiency in this regime?"
   ]
  },
  {
   "cell_type": "code",
   "execution_count": 58,
   "metadata": {},
   "outputs": [],
   "source": [
    "background_rates = np.linspace(0.03, 0.087, 20)\n",
    "efficiencies = []\n",
    "for rate in background_rates.tolist():\n",
    "    runner = Runner(rate)\n",
    "    efficiencies.append(runner.run()[0])"
   ]
  },
  {
   "cell_type": "code",
   "execution_count": 59,
   "metadata": {},
   "outputs": [
    {
     "data": {
      "image/png": "[encoded data removed]",
      "text/plain": [
       "<Figure size 432x288 with 1 Axes>"
      ]
     },
     "metadata": {
      "needs_background": "light"
     },
     "output_type": "display_data"
    }
   ],
   "source": [
    "plt.grid()\n",
    "plt.title(\"Tests Per Person By Background Covid Rate\")\n",
    "plt.xlabel(\"Background USA Covid Rate\")\n",
    "plt.ylabel(\"Tests Required Per Person\")\n",
    "plt.plot(background_rates, efficiencies)\n",
    "plt.savefig(\"tests_per_person_by_covid_rate.png\")"
   ]
  },
  {
   "cell_type": "markdown",
   "metadata": {},
   "source": [
    "## Testing Efficiency Not Nearly As Good In This Regime\n",
    "\n",
    "So as the background rate of covid goes up testing efficiency via pooling decreases quickly.  Reminder this is with the assumption that every person has an equal probability of testing positive for covid.  In order for us to make this strategy useful with background rates at this level we need to have higher fidelity guesses per patient of their likelihood of testing positive for covid.  With that information we can run pools with all individuals closwer to 0 which can raise efficiency of the process overall.  In summary I was a bit dissapointed by the back of the envelope efficiencies gained from this process, when I heard about it on the news my gut assumption is it could lead to 5x test efficiency improvement.  This is still possible -- just not with a naive implementation randomly putting people from all across the country into a testing pool."
   ]
  },
  {
   "cell_type": "code",
   "execution_count": null,
   "metadata": {},
   "outputs": [],
   "source": []
  }
 ],
 "metadata": {
  "kernelspec": {
   "display_name": "Python 3",
   "language": "python",
   "name": "python3"
  },
  "language_info": {
   "codemirror_mode": {
    "name": "ipython",
    "version": 3
   },
   "file_extension": ".py",
   "mimetype": "text/x-python",
   "name": "python",
   "nbconvert_exporter": "python",
   "pygments_lexer": "ipython3",
   "version": "3.6.10"
  }
 },
 "nbformat": 4,
 "nbformat_minor": 4
}
