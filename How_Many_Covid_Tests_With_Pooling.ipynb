{
 "cells": [
  {
   "cell_type": "code",
   "execution_count": 20,
   "metadata": {},
   "outputs": [],
   "source": [
    "import numpy as np\n",
    "import matplotlib.pyplot as plt\n",
    "%matplotlib inline"
   ]
  },
  {
   "cell_type": "code",
   "execution_count": 63,
   "metadata": {},
   "outputs": [],
   "source": [
    "class Runner(object):\n",
    "    def __init__(self, background_rate):\n",
    "        self.background_rate = background_rate\n",
    "\n",
    "    def run_many_trials(self, batch_size, num_samples=10_000):\n",
    "        results = []\n",
    "        for i in range(num_samples):\n",
    "            results.append(self.run_trial(batch_size))\n",
    "        avg_tests = np.mean(results)\n",
    "        tests_per_person = avg_tests / batch_size\n",
    "        return tests_per_person\n",
    "        \n",
    "        \n",
    "    def create_infections(self, batch_size):\n",
    "        v = np.random.random(size=batch_size)\n",
    "        v = v < self.background_rate\n",
    "        return v\n",
    "    \n",
    "    def run_trial(self, batch_size):\n",
    "        people = self.create_infections(batch_size)\n",
    "        if sum(people) == 0:\n",
    "            return 1\n",
    "        return 1 + batch_size\n",
    "    \n",
    "    def run(self):\n",
    "        results = []\n",
    "        for batch_size in range(1,12):\n",
    "            results.append(self.run_many_trials(batch_size))\n",
    "        return min(results)"
   ]
  },
  {
   "cell_type": "code",
   "execution_count": 75,
   "metadata": {},
   "outputs": [],
   "source": [
    "background_rates = np.linspace(0.001, 1.0, 10)\n",
    "efficiencies = []\n",
    "for rate in background_rates.tolist():\n",
    "    runner = Runner(rate)\n",
    "    efficiencies.append(runner.run())"
   ]
  },
  {
   "cell_type": "code",
   "execution_count": 76,
   "metadata": {},
   "outputs": [
    {
     "data": {
      "image/png": "[encoded data removed]",
      "text/plain": [
       "<Figure size 432x288 with 1 Axes>"
      ]
     },
     "metadata": {
      "needs_background": "light"
     },
     "output_type": "display_data"
    }
   ],
   "source": [
    "plt.grid()\n",
    "plt.title(\"Tests Per Person By Background Covid Rate\")\n",
    "plt.xlabel(\"Background USA Covid Rate\")\n",
    "plt.ylabel(\"Tests Required Per Person\")\n",
    "plt.plot(background_rates, efficiencies)\n",
    "plt.savefig(\"tests_per_person_by_covid_rate.png\")"
   ]
  },
  {
   "cell_type": "code",
   "execution_count": null,
   "metadata": {},
   "outputs": [],
   "source": [
    "americans = 300_000_000"
   ]
  },
  {
   "cell_type": "code",
   "execution_count": null,
   "metadata": {},
   "outputs": [],
   "source": [
    "plt.plot(range(3,20), results)\n",
    "plt.title(\"Required Tests Per Person By Batch Size\\n1% in USA has Covid Today\")\n",
    "plt.grid()\n",
    "plt.xlabel('Batch Size')\n",
    "plt.ylabel('Tests Per Person')\n",
    "plt.savefig('required_tests_per_person')"
   ]
  },
  {
   "cell_type": "code",
   "execution_count": 37,
   "metadata": {},
   "outputs": [],
   "source": [
    "table = list(zip(range(3,20), results))"
   ]
  },
  {
   "cell_type": "code",
   "execution_count": 40,
   "metadata": {},
   "outputs": [
    {
     "data": {
      "text/plain": [
       "100154000.0"
      ]
     },
     "execution_count": 40,
     "metadata": {},
     "output_type": "execute_result"
    }
   ],
   "source": [
    "min(results) * americans"
   ]
  },
  {
   "cell_type": "code",
   "execution_count": 38,
   "metadata": {},
   "outputs": [],
   "source": [
    "import pandas as pd\n",
    "df = pd.DataFrame(table)"
   ]
  },
  {
   "cell_type": "code",
   "execution_count": 52,
   "metadata": {},
   "outputs": [],
   "source": []
  },
  {
   "cell_type": "code",
   "execution_count": 53,
   "metadata": {},
   "outputs": [
    {
     "data": {
      "text/plain": [
       "array([0.01, 0.02, 0.03, 0.04, 0.05, 0.06, 0.07, 0.08, 0.09, 0.1 ])"
      ]
     },
     "execution_count": 53,
     "metadata": {},
     "output_type": "execute_result"
    }
   ],
   "source": []
  },
  {
   "cell_type": "code",
   "execution_count": null,
   "metadata": {},
   "outputs": [],
   "source": []
  }
 ],
 "metadata": {
  "kernelspec": {
   "display_name": "Python 3",
   "language": "python",
   "name": "python3"
  },
  "language_info": {
   "codemirror_mode": {
    "name": "ipython",
    "version": 3
   },
   "file_extension": ".py",
   "mimetype": "text/x-python",
   "name": "python",
   "nbconvert_exporter": "python",
   "pygments_lexer": "ipython3",
   "version": "3.6.10"
  }
 },
 "nbformat": 4,
 "nbformat_minor": 4
}
