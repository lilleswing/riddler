{
 "cells": [
  {
   "cell_type": "code",
   "execution_count": 2,
   "metadata": {},
   "outputs": [],
   "source": [
    "from itertools import product\n",
    "from collections import defaultdict"
   ]
  },
  {
   "cell_type": "code",
   "execution_count": 4,
   "metadata": {},
   "outputs": [],
   "source": [
    "dirs = ['left', 'right']\n",
    "cur_dir = 'north'\n",
    "\n",
    "transitions = {\n",
    "    ('north', 'left'): 'east',\n",
    "    ('north', 'right'): 'west',\n",
    "    ('east', 'left'): 'north',\n",
    "    ('east', 'right'): 'south',\n",
    "    ('south', 'left'): 'east',\n",
    "    ('south', 'right'): 'west',\n",
    "    ('west', 'left'): 'south',\n",
    "    ('west', 'right'): 'north'\n",
    "}\n",
    "counts = defaultdict(int)\n",
    "for steps in product(dirs, repeat=10):\n",
    "    cur_dir = 'north'\n",
    "    for step in steps:\n",
    "        cur_dir = transitions[(cur_dir, step)]\n",
    "    counts[cur_dir] += 1"
   ]
  },
  {
   "cell_type": "code",
   "execution_count": 5,
   "metadata": {},
   "outputs": [
    {
     "data": {
      "text/plain": [
       "0.5"
      ]
     },
     "execution_count": 5,
     "metadata": {},
     "output_type": "execute_result"
    }
   ],
   "source": [
    "counts['north'] / sum(counts.values())"
   ]
  },
  {
   "cell_type": "code",
   "execution_count": 6,
   "metadata": {},
   "outputs": [
    {
     "data": {
      "text/plain": [
       "defaultdict(int,\n",
       "            {'north': 14763, 'south': 14762, 'east': 14762, 'west': 14762})"
      ]
     },
     "execution_count": 6,
     "metadata": {},
     "output_type": "execute_result"
    }
   ],
   "source": [
    "dirs = ['left', 'right', 'straight']\n",
    "\n",
    "transitions = {\n",
    "    ('north', 'left'): 'east',\n",
    "    ('north', 'right'): 'west',\n",
    "    ('east', 'left'): 'north',\n",
    "    ('east', 'right'): 'south',\n",
    "    ('south', 'left'): 'east',\n",
    "    ('south', 'right'): 'west',\n",
    "    ('west', 'left'): 'south',\n",
    "    ('west', 'right'): 'north'\n",
    "}\n",
    "counts = defaultdict(int)\n",
    "for steps in product(dirs, repeat=10):\n",
    "    cur_dir = 'north'\n",
    "    for step in steps:\n",
    "        if step == 'straight':\n",
    "            continue\n",
    "        cur_dir = transitions[(cur_dir, step)]\n",
    "    counts[cur_dir] += 1\n",
    "counts"
   ]
  },
  {
   "cell_type": "code",
   "execution_count": 7,
   "metadata": {},
   "outputs": [
    {
     "data": {
      "text/plain": [
       "0.25001270131585634"
      ]
     },
     "execution_count": 7,
     "metadata": {},
     "output_type": "execute_result"
    }
   ],
   "source": [
    "counts['north'] / sum(counts.values())"
   ]
  },
  {
   "cell_type": "code",
   "execution_count": null,
   "metadata": {},
   "outputs": [],
   "source": []
  }
 ],
 "metadata": {
  "kernelspec": {
   "display_name": "Python 3",
   "language": "python",
   "name": "python3"
  },
  "language_info": {
   "codemirror_mode": {
    "name": "ipython",
    "version": 3
   },
   "file_extension": ".py",
   "mimetype": "text/x-python",
   "name": "python",
   "nbconvert_exporter": "python",
   "pygments_lexer": "ipython3",
   "version": "3.6.10"
  }
 },
 "nbformat": 4,
 "nbformat_minor": 4
}
