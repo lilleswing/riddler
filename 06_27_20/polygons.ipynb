{
 "cells": [
  {
   "cell_type": "code",
   "execution_count": 2,
   "metadata": {},
   "outputs": [],
   "source": [
    "from math import factorial\n",
    "from itertools import permutations\n",
    "\n",
    "import numpy as np\n",
    "import matplotlib.pyplot as plt\n",
    "%matplotlib inline"
   ]
  },
  {
   "cell_type": "code",
   "execution_count": 3,
   "metadata": {},
   "outputs": [],
   "source": [
    "def ccw(A,B,C):\n",
    "    return (C.y-A.y) * (B.x-A.x) > (B.y-A.y) * (C.x-A.x)\n",
    "\n",
    "# Return true if line segments AB and CD intersect\n",
    "def intersect(A,B,C,D):\n",
    "    if A == C or A == D:\n",
    "        return False\n",
    "    if B == C or B == D:\n",
    "        return False\n",
    "    return ccw(A,C,D) != ccw(B,C,D) and ccw(A,B,C) != ccw(A,B,D)"
   ]
  },
  {
   "cell_type": "code",
   "execution_count": 4,
   "metadata": {},
   "outputs": [],
   "source": [
    "class Point(object):\n",
    "    def __init__(self, x, y):\n",
    "        self.x = x\n",
    "        self.y = y\n",
    "    def __repr__(self):\n",
    "        return f\"{self.x},{self.y}\"\n",
    "    def __str__(self):\n",
    "        return f\"{self.x},{self.y}\"\n",
    "    def __eq__(self, other):\n",
    "        return self.x == other.x and self.y == other.y"
   ]
  },
  {
   "cell_type": "code",
   "execution_count": 5,
   "metadata": {},
   "outputs": [],
   "source": [
    "def valid_permutation(points):\n",
    "    segments = []\n",
    "    for i in range(len(points)):\n",
    "        p1, p2 = points[i-1], points[i]\n",
    "        segments.append([p1,p2])\n",
    "        \n",
    "    for i in range(len(segments)):\n",
    "        for j in range(i+1, len(segments)):\n",
    "            s1 = segments[i]\n",
    "            s2 = segments[j]\n",
    "            if intersect(s1[0], s1[1], s2[0], s2[1]):\n",
    "                return False\n",
    "    return True"
   ]
  },
  {
   "cell_type": "code",
   "execution_count": 6,
   "metadata": {},
   "outputs": [],
   "source": [
    "def run_simulation(size=4):\n",
    "    X = np.random.random(size=size)\n",
    "    Y = np.random.random(size=size)\n",
    "    points = [Point(x,y) for x, y in zip(X.tolist(), Y.tolist())]\n",
    "    starter = points[0]\n",
    "    rest = points[1:]\n",
    "    valid_perms = list()\n",
    "    all_perms = list()\n",
    "    for perm in permutations(rest, r=len(rest)):\n",
    "        point_order = [starter] + list(perm)\n",
    "        if valid_permutation(point_order):\n",
    "            valid_perms.append(point_order)\n",
    "        all_perms.append(point_order)\n",
    "    return valid_perms"
   ]
  },
  {
   "cell_type": "code",
   "execution_count": 10,
   "metadata": {},
   "outputs": [],
   "source": [
    "def plot_perm(points):\n",
    "    my_points = points + [points[0]]\n",
    "    X = [x.x for x in my_points]\n",
    "    Y = [x.y for x in my_points]\n",
    "    plt.plot(X, Y)"
   ]
  },
  {
   "cell_type": "code",
   "execution_count": 9,
   "metadata": {},
   "outputs": [
    {
     "name": "stdout",
     "output_type": "stream",
     "text": [
      "13\n",
      "24\n",
      "29\n"
     ]
    }
   ],
   "source": [
    "most_polygons = 0\n",
    "all_shapes = None\n",
    "for i in range(10_000):\n",
    "    perms = run_simulation(size=6)\n",
    "    total_poly = len(perms)//2\n",
    "    if total_poly > most_polygons:\n",
    "        most_polygons = total_poly\n",
    "        print(total_poly)\n",
    "        all_shapes = perms"
   ]
  },
  {
   "cell_type": "code",
   "execution_count": 11,
   "metadata": {},
   "outputs": [
    {
     "data": {
      "text/plain": [
       "<matplotlib.collections.PathCollection at 0x7ff57950c550>"
      ]
     },
     "execution_count": 11,
     "metadata": {},
     "output_type": "execute_result"
    },
    {
     "data": {
      "image/png": "[encoded data removed]",
      "text/plain": [
       "<Figure size 432x288 with 1 Axes>"
      ]
     },
     "metadata": {
      "needs_background": "light"
     },
     "output_type": "display_data"
    }
   ],
   "source": [
    "plt.grid()\n",
    "plt.title(\"29 Polygons\")\n",
    "plt.scatter([x.x for x in all_shapes[0]], [x.y for x in all_shapes[0]])"
   ]
  },
  {
   "cell_type": "code",
   "execution_count": 12,
   "metadata": {},
   "outputs": [
    {
     "name": "stdout",
     "output_type": "stream",
     "text": [
      "17\n",
      "37\n",
      "40\n",
      "44\n",
      "72\n",
      "82\n",
      "84\n",
      "91\n",
      "92\n"
     ]
    }
   ],
   "source": [
    "most_polygons = 0\n",
    "all_shapes = None\n",
    "for i in range(10_000):\n",
    "    perms = run_simulation(size=7)\n",
    "    total_poly = len(perms)//2\n",
    "    if total_poly > most_polygons:\n",
    "        most_polygons = total_poly\n",
    "        print(total_poly)\n",
    "        all_shapes = perms"
   ]
  },
  {
   "cell_type": "code",
   "execution_count": 13,
   "metadata": {},
   "outputs": [
    {
     "data": {
      "text/plain": [
       "<matplotlib.collections.PathCollection at 0x7ff5795a1908>"
      ]
     },
     "execution_count": 13,
     "metadata": {},
     "output_type": "execute_result"
    },
    {
     "data": {
      "image/png": "[encoded data removed]",
      "text/plain": [
       "<Figure size 432x288 with 1 Axes>"
      ]
     },
     "metadata": {
      "needs_background": "light"
     },
     "output_type": "display_data"
    }
   ],
   "source": [
    "plt.grid()\n",
    "plt.title(\"92 Polygons\")\n",
    "plt.scatter([x.x for x in all_shapes[0]], [x.y for x in all_shapes[0]])"
   ]
  }
 ],
 "metadata": {
  "kernelspec": {
   "display_name": "Python 3",
   "language": "python",
   "name": "python3"
  },
  "language_info": {
   "codemirror_mode": {
    "name": "ipython",
    "version": 3
   },
   "file_extension": ".py",
   "mimetype": "text/x-python",
   "name": "python",
   "nbconvert_exporter": "python",
   "pygments_lexer": "ipython3",
   "version": "3.6.10"
  }
 },
 "nbformat": 4,
 "nbformat_minor": 4
}
