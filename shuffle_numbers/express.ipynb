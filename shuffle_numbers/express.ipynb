{
 "cells": [
  {
   "cell_type": "markdown",
   "metadata": {},
   "source": [
    "# Express"
   ]
  },
  {
   "cell_type": "code",
   "execution_count": 49,
   "metadata": {},
   "outputs": [],
   "source": [
    "from itertools import product\n",
    "teams = [\n",
    "    'r','s','a','u'\n",
    "]\n",
    "all_games = list(filter(lambda x: x[0] > x[1], product(teams, repeat=2)))\n",
    "point_outcomes = [[3,0],[1,1],[0,3]]"
   ]
  },
  {
   "cell_type": "code",
   "execution_count": 50,
   "metadata": {},
   "outputs": [],
   "source": [
    "all_point_outcomes = list(product(point_outcomes, repeat=len(all_games)))"
   ]
  },
  {
   "cell_type": "code",
   "execution_count": 51,
   "metadata": {},
   "outputs": [],
   "source": [
    "def score_group(points, games):\n",
    "    all_scores = {k[0]:0 for k in games}\n",
    "    all_scores.update({k[1]:0 for k in games})\n",
    "    for i in range(len(points)):\n",
    "        t1, t2 = games[i]\n",
    "        p1, p2 = points[i]\n",
    "        all_scores[t1] += p1\n",
    "        all_scores[t2] += p2\n",
    "    all_scores = sorted([(k,v) for k,v in all_scores.items()])\n",
    "    return \",\".join([str(x[1]) for x in all_scores])\n",
    "    "
   ]
  },
  {
   "cell_type": "code",
   "execution_count": 52,
   "metadata": {},
   "outputs": [
    {
     "data": {
      "text/plain": [
       "556"
      ]
     },
     "execution_count": 52,
     "metadata": {},
     "output_type": "execute_result"
    }
   ],
   "source": [
    "all_outcomes = set()\n",
    "for p in all_point_outcomes:\n",
    "    retval = score_group(p, all_games)\n",
    "    all_outcomes.add(retval)\n",
    "len(all_outcomes)"
   ]
  },
  {
   "cell_type": "code",
   "execution_count": 64,
   "metadata": {},
   "outputs": [
    {
     "data": {
      "text/plain": [
       "(729, 729)"
      ]
     },
     "execution_count": 64,
     "metadata": {},
     "output_type": "execute_result"
    }
   ],
   "source": [
    "len(all_point_outcomes), 3**6"
   ]
  },
  {
   "cell_type": "markdown",
   "metadata": {},
   "source": [
    "# Classic"
   ]
  },
  {
   "cell_type": "code",
   "execution_count": 58,
   "metadata": {},
   "outputs": [],
   "source": [
    "def seq2int(s):\n",
    "    return int(\"\".join([str(x) for x in s]))\n",
    "\n",
    "def is_reverse(n_digits):\n",
    "    for start_val in product(list(range(0,10)), repeat=n_digits):\n",
    "        v1 = seq2int(start_val)\n",
    "        v2 = seq2int([start_val[-1]] + list(start_val[:-1]))\n",
    "        if v1 == 0 or v2 == 0:\n",
    "            continue\n",
    "        if v2 == 2 * v1:\n",
    "            return v1, v2\n",
    "    return None"
   ]
  },
  {
   "cell_type": "code",
   "execution_count": 59,
   "metadata": {},
   "outputs": [
    {
     "name": "stdout",
     "output_type": "stream",
     "text": [
      "None\n",
      "None\n",
      "None\n",
      "None\n",
      "None\n",
      "None\n"
     ]
    }
   ],
   "source": [
    "for i in range(2,8):\n",
    "    print(is_reverse(i))"
   ]
  },
  {
   "cell_type": "code",
   "execution_count": 19,
   "metadata": {},
   "outputs": [
    {
     "data": {
      "text/plain": [
       "2.0"
      ]
     },
     "execution_count": 19,
     "metadata": {},
     "output_type": "execute_result"
    }
   ],
   "source": [
    "import math\n",
    "from math import ceil\n",
    "math.log(100,10)"
   ]
  },
  {
   "cell_type": "code",
   "execution_count": 10,
   "metadata": {},
   "outputs": [
    {
     "data": {
      "text/plain": [
       "312"
      ]
     },
     "execution_count": 10,
     "metadata": {},
     "output_type": "execute_result"
    }
   ],
   "source": [
    "x = 12\n",
    "y = 3\n",
    "l = ceil(math.log(x, 10))\n",
    "10**l * y  + x"
   ]
  },
  {
   "cell_type": "code",
   "execution_count": 45,
   "metadata": {},
   "outputs": [
    {
     "data": {
      "text/plain": [
       "2061.5"
      ]
     },
     "execution_count": 45,
     "metadata": {},
     "output_type": "execute_result"
    }
   ],
   "source": [
    "def rhs(a, b, c):\n",
    "    return a * 10**ceil(math.log(b, 10) + 1) + b * 10 + c\n",
    "\n",
    "def lhs(a, b, c):\n",
    "    p1 = ceil(math.log(b, 10)+1)\n",
    "    p2 = p1 - 1\n",
    "    val = c * 10**p1 + a * 10**p2 + b\n",
    "    return val * 0.5\n",
    "\n",
    "def full_eq(b):\n",
    "    v1 = rhs(2, b, 4)\n",
    "    v2 = lhs(2, b, 4)\n",
    "    return (v1 - v2) ** 2\n",
    "    \n",
    "rhs(1, 23, 4)\n",
    "lhs(1, 23, 4)"
   ]
  },
  {
   "cell_type": "code",
   "execution_count": 46,
   "metadata": {},
   "outputs": [
    {
     "data": {
      "text/plain": [
       "      fun: array([2.25635348e-15])\n",
       " hess_inv: <1x1 LbfgsInvHessProduct with dtype=float64>\n",
       "      jac: array([-3.45602677e-11])\n",
       "  message: b'CONVERGENCE: NORM_OF_PROJECTED_GRADIENT_<=_PGTOL'\n",
       "     nfev: 32\n",
       "      nit: 3\n",
       "   status: 0\n",
       "  success: True\n",
       "        x: array([104.84210526])"
      ]
     },
     "execution_count": 46,
     "metadata": {},
     "output_type": "execute_result"
    }
   ],
   "source": [
    "import scipy.optimize\n",
    "scipy.optimize.minimize(full_eq, 100, bounds=[(1, None)])"
   ]
  },
  {
   "cell_type": "code",
   "execution_count": 40,
   "metadata": {},
   "outputs": [
    {
     "data": {
      "text/plain": [
       "9.001446791391133e-16"
      ]
     },
     "execution_count": 40,
     "metadata": {},
     "output_type": "execute_result"
    }
   ],
   "source": [
    "full_eq(104.84210526)"
   ]
  },
  {
   "cell_type": "code",
   "execution_count": 16,
   "metadata": {},
   "outputs": [
    {
     "data": {
      "text/plain": [
       "617.0"
      ]
     },
     "execution_count": 16,
     "metadata": {},
     "output_type": "execute_result"
    }
   ],
   "source": [
    "rhs(234, 1)"
   ]
  },
  {
   "cell_type": "code",
   "execution_count": 48,
   "metadata": {},
   "outputs": [
    {
     "ename": "SyntaxError",
     "evalue": "invalid token (<ipython-input-48-7c7c645b4b4d>, line 1)",
     "output_type": "error",
     "traceback": [
      "\u001b[0;36m  File \u001b[0;32m\"<ipython-input-48-7c7c645b4b4d>\"\u001b[0;36m, line \u001b[0;32m1\u001b[0m\n\u001b[0;31m    rhs(1, 0526315789473684, 2)\u001b[0m\n\u001b[0m                          ^\u001b[0m\n\u001b[0;31mSyntaxError\u001b[0m\u001b[0;31m:\u001b[0m invalid token\n"
     ]
    }
   ],
   "source": [
    "rhs(1, 0526315789473684, 2)"
   ]
  },
  {
   "cell_type": "code",
   "execution_count": 51,
   "metadata": {},
   "outputs": [
    {
     "data": {
      "text/plain": [
       "42105263157895368"
      ]
     },
     "execution_count": 51,
     "metadata": {},
     "output_type": "execute_result"
    }
   ],
   "source": [
    "# a, b, c\n",
    "# a * (log(b, 10)+1) + c = (c * log(b, 10)+1 + a * log(b, 10) + b) * 0.5\n",
    "21052631578947684 * 2"
   ]
  },
  {
   "cell_type": "code",
   "execution_count": 52,
   "metadata": {},
   "outputs": [
    {
     "data": {
      "text/plain": [
       "18"
      ]
     },
     "execution_count": 52,
     "metadata": {},
     "output_type": "execute_result"
    }
   ],
   "source": [
    "s = \"105263157894736842\"\n",
    "len(s)"
   ]
  },
  {
   "cell_type": "code",
   "execution_count": 53,
   "metadata": {},
   "outputs": [
    {
     "data": {
      "text/plain": [
       "True"
      ]
     },
     "execution_count": 53,
     "metadata": {},
     "output_type": "execute_result"
    }
   ],
   "source": [
    "157894736842105263 * 2 == 315789473684210526"
   ]
  },
  {
   "cell_type": "code",
   "execution_count": null,
   "metadata": {},
   "outputs": [],
   "source": []
  }
 ],
 "metadata": {
  "kernelspec": {
   "display_name": "Python 3",
   "language": "python",
   "name": "python3"
  },
  "language_info": {
   "codemirror_mode": {
    "name": "ipython",
    "version": 3
   },
   "file_extension": ".py",
   "mimetype": "text/x-python",
   "name": "python",
   "nbconvert_exporter": "python",
   "pygments_lexer": "ipython3",
   "version": "3.5.4"
  }
 },
 "nbformat": 4,
 "nbformat_minor": 2
}
