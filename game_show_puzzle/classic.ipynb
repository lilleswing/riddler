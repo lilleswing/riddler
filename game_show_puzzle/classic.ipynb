{
 "cells": [
  {
   "cell_type": "code",
   "execution_count": 1,
   "metadata": {
    "collapsed": true
   },
   "outputs": [],
   "source": [
    "from itertools import permutations\n",
    "boxes = [x for x in range(4)]"
   ]
  },
  {
   "cell_type": "code",
   "execution_count": 2,
   "metadata": {
    "collapsed": true
   },
   "outputs": [],
   "source": [
    "def play_game(strategy, boxes):\n",
    "    for i, p in enumerate(strategy):\n",
    "        if boxes[p[0]] != i and boxes[p[1]] != i:\n",
    "            return False\n",
    "    return True"
   ]
  },
  {
   "cell_type": "code",
   "execution_count": 3,
   "metadata": {
    "collapsed": false
   },
   "outputs": [],
   "source": [
    "def get_win_percentage(strategy):\n",
    "    total_wins = 0\n",
    "    total_games = 0\n",
    "    for perm in permutations(boxes):\n",
    "        result = play_game(strategy, perm)\n",
    "        total_games +=1\n",
    "        if result:\n",
    "            total_wins += 1\n",
    "    return total_wins/total_games, total_wins, total_games"
   ]
  },
  {
   "cell_type": "code",
   "execution_count": 4,
   "metadata": {
    "collapsed": false
   },
   "outputs": [
    {
     "name": "stdout",
     "output_type": "stream",
     "text": [
      "(0.16666666666666666, 4, 24)\n",
      "[(0, 1), (0, 1), (2, 3), (2, 3)]\n"
     ]
    }
   ],
   "source": [
    "# Brute Force It\n",
    "guesses = []\n",
    "for i in range(4):\n",
    "    for j in range(4):\n",
    "        guesses.append((i,j))\n",
    "best = (0, 0, 0)\n",
    "best_strat = []\n",
    "from itertools import product\n",
    "for guess1, guess2, guess3, guess4 in product(guesses, repeat=4):\n",
    "    strat = [guess1, guess2, guess3, guess4]\n",
    "    res = get_win_percentage(strat)\n",
    "    if res[0] > best[0]:\n",
    "        best = res\n",
    "        best_strat = strat\n",
    "print(best)\n",
    "print(best_strat)\n",
    "                "
   ]
  },
  {
   "cell_type": "markdown",
   "metadata": {},
   "source": [
    "## Classic Answer\n",
    "You want to partition the boxes into two equal sets.  Then assign contestants to the two sets so that each set has the same number of contestants\n",
    "```python\n",
    "Strategy = [(0, 1), (0, 1), (2, 3), (2, 3)]\n",
    "p_win = 0.16666666666666666\n",
    "n_win = 4\n",
    "```"
   ]
  },
  {
   "cell_type": "code",
   "execution_count": 5,
   "metadata": {
    "collapsed": false
   },
   "outputs": [],
   "source": [
    "def closed_form(players):\n",
    "    num_guesses = players/2\n",
    "    half = players/2\n",
    "    p = 1\n",
    "    while half >= 1:\n",
    "        p *= half/players\n",
    "        half -= 1\n",
    "        players -= 1\n",
    "    return p\n",
    "        "
   ]
  },
  {
   "cell_type": "code",
   "execution_count": 6,
   "metadata": {
    "collapsed": false
   },
   "outputs": [
    {
     "name": "stdout",
     "output_type": "stream",
     "text": [
      "12.564512901854897 9.911653021418336e-30\n"
     ]
    }
   ],
   "source": [
    "naive_alg = 0.5 ** 100\n",
    "partition_alg = closed_form(100)\n",
    "print(partition_alg/naive_alg, partition_alg)"
   ]
  },
  {
   "cell_type": "markdown",
   "metadata": {},
   "source": [
    "## Extra Credit\n",
    "You can improve your teams chances by ~ 12.5x to 9.911e-30"
   ]
  },
  {
   "cell_type": "code",
   "execution_count": null,
   "metadata": {
    "collapsed": true
   },
   "outputs": [],
   "source": []
  }
 ],
 "metadata": {
  "kernelspec": {
   "display_name": "Python 3",
   "language": "python",
   "name": "python3"
  },
  "language_info": {
   "codemirror_mode": {
    "name": "ipython",
    "version": 3
   },
   "file_extension": ".py",
   "mimetype": "text/x-python",
   "name": "python",
   "nbconvert_exporter": "python",
   "pygments_lexer": "ipython3",
   "version": "3.4.5"
  }
 },
 "nbformat": 4,
 "nbformat_minor": 2
}
