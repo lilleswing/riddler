{
 "cells": [
  {
   "cell_type": "code",
   "execution_count": 2,
   "metadata": {
    "collapsed": true
   },
   "outputs": [],
   "source": [
    "from sympy import *"
   ]
  },
  {
   "cell_type": "code",
   "execution_count": 4,
   "metadata": {
    "collapsed": false
   },
   "outputs": [
    {
     "name": "stdout",
     "output_type": "stream",
     "text": [
      "[(64/11, 90/11, 68/11, 11/2, 11/2), (7, 7, 119/16, 32/7, 45/7)]\n",
      "(64/11, 90/11, 68/11, 11/2, 11/2)\n",
      "32\n"
     ]
    }
   ],
   "source": [
    "x1, x2, x3, y1, y2 = symbols('x1 x2 x3 y1 y2')\n",
    "\n",
    "eq1 = x1 + x2 - 14\n",
    "eq2 = y1 + y2 - 11\n",
    "eq3 = y1 * x1 - 32\n",
    "eq4 = y1 * x3 - 34\n",
    "eq5 = y2 * x2 - 45\n",
    "sols = solve([eq1, eq2, eq3, eq4, eq5], (x1, x2, x3, y1, y2))\n",
    "print(sols)\n",
    "for sol in sols:\n",
    "    x1, x2, x3, y1, y2 = sol\n",
    "    if x3 < x2:\n",
    "        print(sol)\n",
    "        print(y2 * x1)\n"
   ]
  },
  {
   "cell_type": "code",
   "execution_count": null,
   "metadata": {
    "collapsed": true
   },
   "outputs": [],
   "source": []
  }
 ],
 "metadata": {
  "kernelspec": {
   "display_name": "Python 3",
   "language": "python",
   "name": "python3"
  },
  "language_info": {
   "codemirror_mode": {
    "name": "ipython",
    "version": 3
   },
   "file_extension": ".py",
   "mimetype": "text/x-python",
   "name": "python",
   "nbconvert_exporter": "python",
   "pygments_lexer": "ipython3",
   "version": "3.4.5"
  }
 },
 "nbformat": 4,
 "nbformat_minor": 2
}
