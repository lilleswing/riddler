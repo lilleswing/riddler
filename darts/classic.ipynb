{
 "cells": [
  {
   "cell_type": "code",
   "execution_count": 1,
   "metadata": {
    "collapsed": true
   },
   "outputs": [],
   "source": [
    "import random\n",
    "import math\n",
    "def throw():\n",
    "    r = random.random()\n",
    "    angle = random.random() * 2 * math.pi\n",
    "    return math.cos(angle) * r, math.sin(angle) * r\n",
    "\n",
    "def dist(a, b):\n",
    "    return math.hypot(a[0]-b[0], a[1]-b[1])"
   ]
  },
  {
   "cell_type": "code",
   "execution_count": 7,
   "metadata": {
    "collapsed": true
   },
   "outputs": [],
   "source": [
    "import itertools\n",
    "def is_close(l):\n",
    "    if len(l) == 0:\n",
    "        return False\n",
    "    for a, b in itertools.product(l, repeat=2):\n",
    "        if a == b:\n",
    "            continue\n",
    "        if dist(a, b) > 1:\n",
    "            return True\n",
    "    return False\n",
    "    \n",
    "def play_game():\n",
    "    throws = [throw(), throw()]\n",
    "    while not is_close(throws):\n",
    "        throws.append(throw())\n",
    "    return len(throws) - 1\n"
   ]
  },
  {
   "cell_type": "code",
   "execution_count": 8,
   "metadata": {
    "collapsed": true
   },
   "outputs": [],
   "source": [
    "games = [play_game() for x in range(1000000)]"
   ]
  },
  {
   "cell_type": "code",
   "execution_count": 9,
   "metadata": {},
   "outputs": [
    {
     "data": {
      "text/plain": [
       "(24, 3.1796959999999999)"
      ]
     },
     "execution_count": 9,
     "metadata": {},
     "output_type": "execute_result"
    }
   ],
   "source": [
    "import numpy as np\n",
    "np.max(games), np.mean(games)"
   ]
  },
  {
   "cell_type": "code",
   "execution_count": 10,
   "metadata": {},
   "outputs": [
    {
     "data": {
      "text/plain": [
       "0.777343"
      ]
     },
     "execution_count": 10,
     "metadata": {},
     "output_type": "execute_result"
    }
   ],
   "source": [
    "twos = len(list(filter(lambda x: x > 1, games)))\n",
    "twos/len(games)"
   ]
  },
  {
   "cell_type": "code",
   "execution_count": 67,
   "metadata": {
    "collapsed": true
   },
   "outputs": [],
   "source": [
    "def point_gen():\n",
    "    for r in np.linspace(0,1,2):\n",
    "        for theta in np.linspace(0,2 * math.pi, 7):\n",
    "            yield math.cos(theta) * r, math.sin(theta) * r"
   ]
  },
  {
   "cell_type": "code",
   "execution_count": 68,
   "metadata": {
    "collapsed": true
   },
   "outputs": [],
   "source": [
    "best_path = []\n",
    "def dfs_helper(path):\n",
    "    if is_close(path):\n",
    "        return\n",
    "    if len(path) > len(best_path):\n",
    "        best_path.clear()\n",
    "        best_path.extend(path)\n",
    "    for p in point_gen():\n",
    "        path.append(p)\n",
    "        dfs_helper(path)\n",
    "        path.pop()\n",
    "dfs_helper([])"
   ]
  },
  {
   "cell_type": "code",
   "execution_count": 69,
   "metadata": {},
   "outputs": [
    {
     "data": {
      "text/plain": [
       "[(0.0, 0.0),\n",
       " (1.0, 0.0),\n",
       " (0.50000000000000011, 0.8660254037844386),\n",
       " (-0.49999999999999978, 0.86602540378443871),\n",
       " (-1.0, 1.2246467991473532e-16),\n",
       " (-0.50000000000000044, -0.86602540378443837),\n",
       " (0.49999999999999933, -0.86602540378443904)]"
      ]
     },
     "execution_count": 69,
     "metadata": {},
     "output_type": "execute_result"
    }
   ],
   "source": [
    "best_path"
   ]
  },
  {
   "cell_type": "code",
   "execution_count": 70,
   "metadata": {},
   "outputs": [
    {
     "data": {
      "text/plain": [
       "<matplotlib.collections.PathCollection at 0x7f702f7ba748>"
      ]
     },
     "execution_count": 70,
     "metadata": {},
     "output_type": "execute_result"
    },
    {
     "data": {
      "image/png": "[encoded data removed]",
      "text/plain": [
       "<matplotlib.figure.Figure at 0x7f702f901f60>"
      ]
     },
     "metadata": {},
     "output_type": "display_data"
    }
   ],
   "source": [
    "import matplotlib.pyplot as plt\n",
    "%matplotlib inline\n",
    "plt.scatter([x[0] for x in best_path], [x[1] for x in best_path])"
   ]
  },
  {
   "cell_type": "code",
   "execution_count": 64,
   "metadata": {},
   "outputs": [
    {
     "data": {
      "text/plain": [
       "<matplotlib.collections.PathCollection at 0x7f702f850518>"
      ]
     },
     "execution_count": 64,
     "metadata": {},
     "output_type": "execute_result"
    },
    {
     "data": {
      "image/png": "[encoded data removed]",
      "text/plain": [
       "<matplotlib.figure.Figure at 0x7f702f912828>"
      ]
     },
     "metadata": {},
     "output_type": "display_data"
    }
   ],
   "source": [
    "plt.scatter([x[0] for x in ps], [x[1] for x in ps])"
   ]
  },
  {
   "cell_type": "code",
   "execution_count": 65,
   "metadata": {},
   "outputs": [
    {
     "data": {
      "text/plain": [
       "0.9999999999999999"
      ]
     },
     "execution_count": 65,
     "metadata": {},
     "output_type": "execute_result"
    }
   ],
   "source": [
    "dist((0.50000000000000011, 0.8660254037844386), (-0.49999999999999978, 0.86602540378443871))"
   ]
  },
  {
   "cell_type": "code",
   "execution_count": null,
   "metadata": {
    "collapsed": true
   },
   "outputs": [],
   "source": []
  }
 ],
 "metadata": {
  "kernelspec": {
   "display_name": "Python 3",
   "language": "python",
   "name": "python3"
  },
  "language_info": {
   "codemirror_mode": {
    "name": "ipython",
    "version": 3
   },
   "file_extension": ".py",
   "mimetype": "text/x-python",
   "name": "python",
   "nbconvert_exporter": "python",
   "pygments_lexer": "ipython3",
   "version": "3.6.3"
  }
 },
 "nbformat": 4,
 "nbformat_minor": 2
}
