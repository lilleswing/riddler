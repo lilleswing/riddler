{
 "cells": [
  {
   "cell_type": "code",
   "execution_count": 2,
   "metadata": {},
   "outputs": [
    {
     "data": {
      "text/plain": [
       "      fun: 0.5773502691948029\n",
       " hess_inv: array([[ 0.39925989,  0.19325852],\n",
       "       [ 0.19325852,  0.38494671]])\n",
       "      jac: array([ -5.95301390e-06,   2.71946192e-06])\n",
       "  message: 'Optimization terminated successfully.'\n",
       "     nfev: 36\n",
       "      nit: 6\n",
       "     njev: 9\n",
       "   status: 0\n",
       "  success: True\n",
       "        x: array([ 0.66666488,  0.33333322])"
      ]
     },
     "execution_count": 2,
     "metadata": {},
     "output_type": "execute_result"
    }
   ],
   "source": [
    "import numpy as np\n",
    "import scipy\n",
    "from scipy.optimize import minimize\n",
    "\n",
    "def p1(x):\n",
    "    return np.array([0, x, x])\n",
    "\n",
    "def p2(x):\n",
    "    return np.array([x, 1, x])\n",
    "\n",
    "def d(X):\n",
    "    a = p1(X[0])\n",
    "    b = p2(X[1])\n",
    "    return np.linalg.norm(a-b)\n",
    "    \n",
    "minimize(d, [0,0])\n"
   ]
  },
  {
   "cell_type": "code",
   "execution_count": null,
   "metadata": {
    "collapsed": true
   },
   "outputs": [],
   "source": []
  }
 ],
 "metadata": {
  "kernelspec": {
   "display_name": "Python 3",
   "language": "python",
   "name": "python3"
  },
  "language_info": {
   "codemirror_mode": {
    "name": "ipython",
    "version": 3
   },
   "file_extension": ".py",
   "mimetype": "text/x-python",
   "name": "python",
   "nbconvert_exporter": "python",
   "pygments_lexer": "ipython3",
   "version": "3.5.4"
  }
 },
 "nbformat": 4,
 "nbformat_minor": 2
}
