{
 "cells": [
  {
   "cell_type": "code",
   "execution_count": 1,
   "metadata": {},
   "outputs": [],
   "source": [
    "\"\"\"\n",
    "Master/Slave Serialized Communication\n",
    "Slaves send bit to master\n",
    "Master then clears channel\n",
    "Master has to recieve 2 * n communications because channel can start \"on\"\n",
    "\n",
    "Solve using a 3D markov Chain\n",
    "\"\"\"\n",
    "\n",
    "import numpy as np\n",
    "indexes = []\n",
    "for switch in [0, 1]:\n",
    "    for num_zeros in range(0,100):\n",
    "        for num_ones in range(0, 100 - num_zeros):\n",
    "            num_twos = 99 - num_zeros - num_ones\n",
    "            key = (switch, num_zeros, num_ones, num_twos)\n",
    "            indexes.append(key)\n",
    "            \n",
    "def update_graph_master(switch, num_zeros, num_ones, num_twos, g, index_lookup):\n",
    "    key = (switch, num_zeros, num_ones, num_twos)\n",
    "    p = 1.0/100.0\n",
    "    next_state = (0, num_zeros, num_ones, num_twos)\n",
    "    from_index, to_index = index_lookup[key], index_lookup[next_state]\n",
    "    g[from_index][to_index] += p\n",
    "    \n",
    "def update_graph_zero(switch, num_zeros, num_ones, num_twos, g, index_lookup):\n",
    "    if num_zeros == 0:\n",
    "        return\n",
    "    key = (switch, num_zeros, num_ones, num_twos)\n",
    "    p = num_zeros/100.0\n",
    "    if switch == 0:\n",
    "        next_state = (1, num_zeros-1, num_ones+1, num_twos)\n",
    "    else:\n",
    "        next_state = key\n",
    "    from_index, to_index = index_lookup[key], index_lookup[next_state]\n",
    "    g[from_index][to_index] += p\n",
    "    \n",
    "def update_graph_one(switch, num_zeros, num_ones, num_twos, g, index_lookup):\n",
    "    if num_ones == 0:\n",
    "        return\n",
    "    key = (switch, num_zeros, num_ones, num_twos)\n",
    "    p = num_ones/100.0\n",
    "    if switch == 0:\n",
    "        next_state = (1, num_zeros, num_ones-1, num_twos+1)\n",
    "    else:\n",
    "        next_state = key\n",
    "    from_index, to_index = index_lookup[key], index_lookup[next_state]\n",
    "    g[from_index][to_index] += p\n",
    "    \n",
    "def update_graph_two(switch, num_zeros, num_ones, num_twos, g, index_lookup):\n",
    "    if num_twos == 0:\n",
    "        return\n",
    "    key = (switch, num_zeros, num_ones, num_twos)\n",
    "    p = num_twos/100.0\n",
    "    next_state = key\n",
    "    from_index, to_index = index_lookup[key], index_lookup[next_state]\n",
    "    g[from_index][to_index] += p\n",
    "    \n",
    "index_lookup = {v:i for i, v in enumerate(indexes)}            \n",
    "g = np.zeros(shape=(len(indexes), len(indexes)))\n",
    "\n",
    "for switch in [0, 1]:\n",
    "    for num_zeros in range(0,100):\n",
    "        for num_ones in range(0, 100 - num_zeros):\n",
    "            num_twos = 99 - num_zeros - num_ones\n",
    "            assert num_zeros + num_ones + num_twos == 99\n",
    "            key = (switch, num_zeros, num_ones, num_twos)\n",
    "            update_graph_master(switch, num_zeros, num_ones, num_twos, g, index_lookup)\n",
    "            # Pick a Zero\n",
    "            update_graph_zero(switch, num_zeros, num_ones, num_twos, g, index_lookup)\n",
    "            # Pick a One\n",
    "            update_graph_one(switch, num_zeros, num_ones, num_twos, g, index_lookup)\n",
    "            # Pick a Two\n",
    "            update_graph_two(switch, num_zeros, num_ones, num_twos, g, index_lookup)\n",
    "            "
   ]
  },
  {
   "cell_type": "code",
   "execution_count": 2,
   "metadata": {},
   "outputs": [],
   "source": [
    "import numpy.linalg\n",
    "def ev(g, start, stop):\n",
    "    \"\"\"\n",
    "    Get expected value to go from start to stop in a transition matrix g\n",
    "    \"\"\"\n",
    "    g2 = np.delete(g, stop, axis=0)\n",
    "    g2 = np.delete(g2, stop, axis=1)\n",
    "    eye = np.eye(len(g2))\n",
    "    g2 = eye - g2\n",
    "    if start > stop:\n",
    "        start -= 1\n",
    "    try:\n",
    "        return numpy.linalg.solve(g2, np.ones((len(g2),)))[start]\n",
    "    except:\n",
    "        return numpy.linalg.lstsq(g2, np.ones((len(g2),)))[0][start]"
   ]
  },
  {
   "cell_type": "code",
   "execution_count": 3,
   "metadata": {},
   "outputs": [
    {
     "name": "stdout",
     "output_type": "stream",
     "text": [
      "(10099, 10099)\n",
      "(10099, 10099)\n",
      "Expected Value = 20477.6630505\n"
     ]
    }
   ],
   "source": [
    "# Average the Expected values of the two scenarios\n",
    "start, stop = index_lookup[(0, 99, 0, 0)], index_lookup[(0, 0, 0, 99)]\n",
    "ex1 = ev(g, start, stop)\n",
    "start, stop = index_lookup[(1, 99, 0, 0)], index_lookup[(0, 0, 1, 98)]\n",
    "ex2 = ev(g, start, stop)\n",
    "ex = (ex1 + ex2) * 0.5\n",
    "print(\"Expected Value = %s\" % ex)"
   ]
  },
  {
   "cell_type": "code",
   "execution_count": 4,
   "metadata": {
    "collapsed": true
   },
   "outputs": [],
   "source": [
    "# Lets run a Monte Carlo To Ensure I'm not Taking Crazy Pills\n",
    "import random\n",
    "def randbool():\n",
    "    return random.randint(0,1)==0\n",
    "def simulate():\n",
    "    people = [0] * 100\n",
    "    switches = [randbool(), randbool()]\n",
    "    turns = 0\n",
    "    count = 0\n",
    "    while count < 198:\n",
    "        prisoner = random.randint(0,99)\n",
    "        if prisoner == 0:\n",
    "            if switches[0] == True:\n",
    "                switches[0] = False\n",
    "                count += 1\n",
    "            else:\n",
    "                switches[1] = not switches[1]\n",
    "        else:\n",
    "            if switches[0] == False and people[prisoner] < 2:\n",
    "                people[prisoner] += 1\n",
    "                switches[0] = True\n",
    "            else:\n",
    "                switches[1] = not switches[1]\n",
    "        turns += 1\n",
    "    return turns"
   ]
  },
  {
   "cell_type": "code",
   "execution_count": 5,
   "metadata": {},
   "outputs": [
    {
     "name": "stdout",
     "output_type": "stream",
     "text": [
      "20464.273\n"
     ]
    }
   ],
   "source": [
    "results = [simulate() for x in range(10000)]\n",
    "print(np.mean(results))"
   ]
  },
  {
   "cell_type": "code",
   "execution_count": 6,
   "metadata": {},
   "outputs": [
    {
     "data": {
      "image/png": "[encoded data removed]",
      "text/plain": [
       "<matplotlib.figure.Figure at 0x7f6d245522b0>"
      ]
     },
     "metadata": {},
     "output_type": "display_data"
    }
   ],
   "source": [
    "import matplotlib\n",
    "import matplotlib.pyplot as plt\n",
    "%matplotlib inline\n",
    "n, bins, patches = plt.hist(results, 50, normed=1, facecolor='green', alpha=0.75)\n",
    "plt.show()"
   ]
  }
 ],
 "metadata": {
  "kernelspec": {
   "display_name": "Python 3",
   "language": "python",
   "name": "python3"
  },
  "language_info": {
   "codemirror_mode": {
    "name": "ipython",
    "version": 3
   },
   "file_extension": ".py",
   "mimetype": "text/x-python",
   "name": "python",
   "nbconvert_exporter": "python",
   "pygments_lexer": "ipython3",
   "version": "3.6.3"
  }
 },
 "nbformat": 4,
 "nbformat_minor": 2
}
