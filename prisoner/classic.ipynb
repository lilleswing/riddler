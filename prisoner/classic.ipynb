{
 "cells": [
  {
   "cell_type": "code",
   "execution_count": 5,
   "metadata": {
    "collapsed": false
   },
   "outputs": [],
   "source": [
    "import random\n",
    "def randbool():\n",
    "    return random.randint(0,1)==0\n",
    "def simulate():\n",
    "    \"\"\"\n",
    "    Master/Slave Serialized Communication\n",
    "    Slaves send bit to master\n",
    "    Master then clears channel\n",
    "    Master has to recieve 2 * n communications because channel can start \"on\"\n",
    "    \"\"\"\n",
    "    \n",
    "    people = [0] * 100\n",
    "    switches = [randbool(), randbool()]\n",
    "    turns = 0\n",
    "    count = 0\n",
    "    while count < 198:\n",
    "        prisoner = random.randint(0,99)\n",
    "        if prisoner == 0:\n",
    "            if switches[0] == True:\n",
    "                switches[0] = False\n",
    "                count += 1\n",
    "            else:\n",
    "                switches[1] = not switches[1]\n",
    "        else:\n",
    "            if switches[0] == False and people[prisoner] < 2:\n",
    "                people[prisoner] += 1\n",
    "                switches[0] = True\n",
    "            else:\n",
    "                switches[1] = not switches[1]\n",
    "        turns += 1\n",
    "    return turns"
   ]
  },
  {
   "cell_type": "code",
   "execution_count": 4,
   "metadata": {
    "collapsed": false
   },
   "outputs": [],
   "source": [
    "results = [simulate() for x in range(10000)]"
   ]
  },
  {
   "cell_type": "code",
   "execution_count": 7,
   "metadata": {
    "collapsed": false
   },
   "outputs": [],
   "source": [
    "import matplotlib\n",
    "import matplotlib.pyplot as plt\n",
    "%matplotlib inline"
   ]
  },
  {
   "cell_type": "code",
   "execution_count": 8,
   "metadata": {
    "collapsed": false
   },
   "outputs": [
    {
     "data": {
      "image/png": "[encoded data removed]",
      "text/plain": [
       "<matplotlib.figure.Figure at 0x7fbd75329f28>"
      ]
     },
     "metadata": {},
     "output_type": "display_data"
    }
   ],
   "source": [
    "n, bins, patches = plt.hist(results, 50, normed=1, facecolor='green', alpha=0.75)\n",
    "plt.show()"
   ]
  },
  {
   "cell_type": "code",
   "execution_count": 9,
   "metadata": {
    "collapsed": true
   },
   "outputs": [],
   "source": [
    "import numpy as np"
   ]
  },
  {
   "cell_type": "code",
   "execution_count": 10,
   "metadata": {
    "collapsed": false
   },
   "outputs": [
    {
     "data": {
      "text/plain": [
       "20483.981899999999"
      ]
     },
     "execution_count": 10,
     "metadata": {},
     "output_type": "execute_result"
    }
   ],
   "source": [
    "np.mean(results)"
   ]
  },
  {
   "cell_type": "code",
   "execution_count": null,
   "metadata": {
    "collapsed": true
   },
   "outputs": [],
   "source": []
  }
 ],
 "metadata": {
  "kernelspec": {
   "display_name": "Python 3",
   "language": "python",
   "name": "python3"
  },
  "language_info": {
   "codemirror_mode": {
    "name": "ipython",
    "version": 3
   },
   "file_extension": ".py",
   "mimetype": "text/x-python",
   "name": "python",
   "nbconvert_exporter": "python",
   "pygments_lexer": "ipython3",
   "version": "3.4.5"
  }
 },
 "nbformat": 4,
 "nbformat_minor": 2
}
