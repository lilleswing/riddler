{
 "cells": [
  {
   "cell_type": "code",
   "execution_count": 1,
   "metadata": {
    "collapsed": true
   },
   "outputs": [],
   "source": [
    "import itertools"
   ]
  },
  {
   "cell_type": "code",
   "execution_count": 2,
   "metadata": {
    "collapsed": true
   },
   "outputs": [],
   "source": [
    "def num_overlap(a, b):\n",
    "    count = 0\n",
    "    for x,y in zip(a,b):\n",
    "        if x == y:\n",
    "            count += 1\n",
    "    return count\n",
    "\n",
    "def filter_valid(perms, guesses, counts):\n",
    "    retval = []\n",
    "    for perm in perms:\n",
    "        still_valid = True\n",
    "        for count, guess in zip(counts, guesses):\n",
    "            n_count = num_overlap(perm, guess)\n",
    "            if n_count != count:\n",
    "                still_valid = False\n",
    "        if still_valid:\n",
    "            retval.append(perm)\n",
    "    return retval\n",
    "    \n",
    "def optimal_strategy(perms):\n",
    "    \"\"\"\n",
    "    Use mini-max set exclusion like knuth\n",
    "    \"\"\"\n",
    "    guesses = []\n",
    "    for guess in perms:\n",
    "        lengths = []    \n",
    "        for code in perms:\n",
    "            count = num_overlap(guess, code)\n",
    "            l = filter_valid(perms, [guess], [count])\n",
    "            lengths.append((len(l), guess))\n",
    "        guesses.append(max(lengths, key=lambda x: x[0]))\n",
    "    return min(guesses, key=lambda x: x[0])[1]\n",
    "                    \n",
    "        "
   ]
  },
  {
   "cell_type": "code",
   "execution_count": 3,
   "metadata": {
    "collapsed": false
   },
   "outputs": [],
   "source": [
    "def play_game(secret_code, perms, guesses, counts):    \n",
    "    if len(guesses ) > 0 and guesses[-1] == secret_code:\n",
    "        return 0, list(guesses)\n",
    "    guess = optimal_strategy(perms)\n",
    "    guesses.append(guess)\n",
    "    count = num_overlap(guesses[-1], secret_code)\n",
    "    counts.append(count)\n",
    "    l = filter_valid(perms, guesses, counts)\n",
    "    retval, ret_list = play_game(secret_code, l, guesses, counts)\n",
    "    return retval + 1, ret_list"
   ]
  },
  {
   "cell_type": "code",
   "execution_count": 4,
   "metadata": {
    "collapsed": false,
    "scrolled": false
   },
   "outputs": [],
   "source": [
    "perms = [x for x in itertools.permutations(range(4))]\n",
    "games = []\n",
    "for perm in perms:\n",
    "    game = play_game(perm, perms, [], []), perm\n",
    "    games.append(game)"
   ]
  },
  {
   "cell_type": "code",
   "execution_count": 5,
   "metadata": {
    "collapsed": false
   },
   "outputs": [
    {
     "name": "stdout",
     "output_type": "stream",
     "text": [
      "((6, [(0, 1, 2, 3), (0, 2, 3, 1), (0, 3, 1, 2), (1, 2, 0, 3), (2, 1, 3, 0), (3, 0, 2, 1)]), (3, 0, 2, 1))\n"
     ]
    }
   ],
   "source": [
    "print(max(games, key=lambda x: x[0]))"
   ]
  },
  {
   "cell_type": "code",
   "execution_count": null,
   "metadata": {
    "collapsed": true
   },
   "outputs": [],
   "source": []
  }
 ],
 "metadata": {
  "kernelspec": {
   "display_name": "Python 3",
   "language": "python",
   "name": "python3"
  },
  "language_info": {
   "codemirror_mode": {
    "name": "ipython",
    "version": 3
   },
   "file_extension": ".py",
   "mimetype": "text/x-python",
   "name": "python",
   "nbconvert_exporter": "python",
   "pygments_lexer": "ipython3",
   "version": "3.4.5"
  }
 },
 "nbformat": 4,
 "nbformat_minor": 2
}
