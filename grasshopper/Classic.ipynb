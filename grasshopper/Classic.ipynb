{
 "cells": [
  {
   "cell_type": "code",
   "execution_count": 1,
   "metadata": {
    "collapsed": true
   },
   "outputs": [],
   "source": [
    "import itertools\n",
    "def selection_probs(mine, hers):\n",
    "    \"\"\"\n",
    "    Return the probability from state (mine, hers)\n",
    "    to choose [0, 1, 2, 3, 4] of my flavor of gummy\n",
    "    \"\"\"\n",
    "    probs = [0.0] * 5\n",
    "    for order in itertools.product([0,1], repeat=4):\n",
    "        p = 1.0\n",
    "        m, h = mine, hers\n",
    "        for elem in order:\n",
    "            if m < 0 or h < 0:\n",
    "                p = 0.0\n",
    "                break\n",
    "            if elem == 0:\n",
    "                p *= float(m) / float(m + h)\n",
    "                m -= 1\n",
    "            else:\n",
    "                p *= float(h) / float(m + h)\n",
    "                h -= 1         \n",
    "        num_mine = 4 - sum(order)\n",
    "        probs[num_mine] += p\n",
    "    assert 0.9999 < sum(probs) < 1.0001\n",
    "    return probs\n",
    "    \n",
    "\n",
    "def get_prob(mine, hers):\n",
    "    \"\"\"\n",
    "    Return the probability starting at state (mine, hers)\n",
    "    to get to eat [0, 1, 2] of my flavor\n",
    "    \"\"\"\n",
    "    prefer = [0.0, 0.0, 0.0]\n",
    "    s_probs = selection_probs(mine, hers)\n",
    "    prefer[0] += s_probs[0]\n",
    "    prefer[1] += s_probs[1]\n",
    "    prefer[2] += s_probs[2] + s_probs[3] + s_probs[4]\n",
    "    assert 0.9999 < sum(prefer) < 1.0001\n",
    "    return prefer\n",
    "    \n",
    "def state_visit_probs():\n",
    "    \"\"\"\n",
    "    Return a dictionary with keys (mine, hers)\n",
    "    with values the probability of arriving at that state\n",
    "    \"\"\"\n",
    "    dp = dict()\n",
    "    dp[(30, 30)] = 1.0\n",
    "    levels = [(30,30)]\n",
    "    for round in range(15):\n",
    "        next_levels = set()\n",
    "        for m, h in levels:\n",
    "            v = dp[(m, h)]\n",
    "            probs = selection_probs(m, h)\n",
    "            for i, p in enumerate(probs):\n",
    "                if p == 0:\n",
    "                    continue\n",
    "                nm = m - i\n",
    "                nh = h - 4 + i\n",
    "                if (nm, nh) not in dp:\n",
    "                    dp[(nm, nh)] = 0\n",
    "                next_levels.add((nm, nh))\n",
    "                dp[(nm, nh)] += v * p\n",
    "        levels = next_levels\n",
    "    return dp\n",
    "        \n",
    "    "
   ]
  },
  {
   "cell_type": "code",
   "execution_count": 10,
   "metadata": {
    "scrolled": false
   },
   "outputs": [
    {
     "data": {
      "text/plain": [
       "[array([ 0.05619982,  0.24977698,  0.69402319]),\n",
       " array([ 0.05619982,  0.24977698,  0.69402319]),\n",
       " array([ 0.05619982,  0.24977698,  0.69402319]),\n",
       " array([ 0.05619982,  0.24977698,  0.69402319]),\n",
       " array([ 0.05619982,  0.24977698,  0.69402319]),\n",
       " array([ 0.05619982,  0.24977698,  0.69402319]),\n",
       " array([ 0.05619982,  0.24977698,  0.69402319]),\n",
       " array([ 0.05619982,  0.24977698,  0.69402319]),\n",
       " array([ 0.05619982,  0.24977698,  0.69402319]),\n",
       " array([ 0.05619982,  0.24977698,  0.69402319]),\n",
       " array([ 0.05619982,  0.24977698,  0.69402319]),\n",
       " array([ 0.05619982,  0.24977698,  0.69402319]),\n",
       " array([ 0.05619982,  0.24977698,  0.69402319]),\n",
       " array([ 0.05619982,  0.24977698,  0.69402319])]"
      ]
     },
     "execution_count": 10,
     "metadata": {},
     "output_type": "execute_result"
    }
   ],
   "source": [
    "import numpy as np\n",
    "dp = state_visit_probs()\n",
    "probs_per_day = []\n",
    "for i in range(1, 15):\n",
    "    total_vits = 60 - i * 4\n",
    "    total_probs = np.array([0.0,0.0,0.0])\n",
    "    for k, v in dp.items():\n",
    "        if sum(k) != total_vits:\n",
    "            continue\n",
    "        total_probs += np.array(get_prob(k[0], k[1])) * v\n",
    "    probs_per_day.append(total_probs)\n",
    "probs_per_day"
   ]
  },
  {
   "cell_type": "code",
   "execution_count": 5,
   "metadata": {},
   "outputs": [
    {
     "data": {
      "text/plain": [
       "[0.0, 0.0, 0.9999999999999999]"
      ]
     },
     "execution_count": 5,
     "metadata": {},
     "output_type": "execute_result"
    }
   ],
   "source": [
    "get_prob(2,2)"
   ]
  },
  {
   "cell_type": "markdown",
   "metadata": {},
   "source": [
    "Boy do I feel dumb...."
   ]
  }
 ],
 "metadata": {
  "kernelspec": {
   "display_name": "Python 3",
   "language": "python",
   "name": "python3"
  },
  "language_info": {
   "codemirror_mode": {
    "name": "ipython",
    "version": 3
   },
   "file_extension": ".py",
   "mimetype": "text/x-python",
   "name": "python",
   "nbconvert_exporter": "python",
   "pygments_lexer": "ipython3",
   "version": "3.6.3"
  }
 },
 "nbformat": 4,
 "nbformat_minor": 2
}
