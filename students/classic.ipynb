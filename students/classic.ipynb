{
 "cells": [
  {
   "cell_type": "markdown",
   "metadata": {},
   "source": [
    "# Riddle 1"
   ]
  },
  {
   "cell_type": "markdown",
   "metadata": {},
   "source": [
    "This exhibits the greedy choice property.  Alway shake hands to the \"right\""
   ]
  },
  {
   "cell_type": "code",
   "execution_count": 6,
   "metadata": {},
   "outputs": [],
   "source": [
    "import numpy as np\n",
    "def link(num_knights):\n",
    "    knights = [set(range(num_knights)) for x in range(num_knights)]\n",
    "    for i in range(num_knights):\n",
    "        knights[i].remove(i)\n",
    "    new_order = [0]\n",
    "    for i in range(1, num_knights):\n",
    "        next_knight = list(knights[new_order[-1]])[0]\n",
    "        new_order.append(next_knight)\n",
    "    for i in range(1, num_knights, 2):\n",
    "        \n",
    "num_knights = 6"
   ]
  },
  {
   "cell_type": "code",
   "execution_count": 4,
   "metadata": {},
   "outputs": [
    {
     "data": {
      "text/plain": [
       "[{0, 1, 2, 3, 4, 5},\n",
       " {0, 1, 2, 3, 4, 5},\n",
       " {0, 1, 2, 3, 4, 5},\n",
       " {0, 1, 2, 3, 4, 5},\n",
       " {0, 1, 2, 3, 4, 5},\n",
       " {0, 1, 2, 3, 4, 5}]"
      ]
     },
     "execution_count": 4,
     "metadata": {},
     "output_type": "execute_result"
    }
   ],
   "source": [
    "knights"
   ]
  },
  {
   "cell_type": "code",
   "execution_count": null,
   "metadata": {
    "collapsed": true
   },
   "outputs": [],
   "source": []
  }
 ],
 "metadata": {
  "kernelspec": {
   "display_name": "Python 3",
   "language": "python",
   "name": "python3"
  },
  "language_info": {
   "codemirror_mode": {
    "name": "ipython",
    "version": 3
   },
   "file_extension": ".py",
   "mimetype": "text/x-python",
   "name": "python",
   "nbconvert_exporter": "python",
   "pygments_lexer": "ipython3",
   "version": "3.5.4"
  }
 },
 "nbformat": 4,
 "nbformat_minor": 2
}
