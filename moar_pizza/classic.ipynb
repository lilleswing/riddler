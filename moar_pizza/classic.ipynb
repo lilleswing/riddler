{
 "cells": [
  {
   "cell_type": "code",
   "execution_count": 9,
   "metadata": {
    "collapsed": false
   },
   "outputs": [
    {
     "name": "stdout",
     "output_type": "stream",
     "text": [
      "(0.64800000000000002, 635040.0, 3)\n",
      "(0.68255999999999994, 662083.19999999995, 5)\n",
      "(0.71020800000000006, 681799.68000000005, 7)\n",
      "(0.73343231999999992, 696760.70399999991, 9)\n",
      "(0.75349813247999986, 708288.24453119992, 11)\n",
      "(0.77115604746239996, 717175.12414003199, 13)\n",
      "(0.78689681738956796, 723945.07199840248, 15)\n",
      "(0.80106351032401923, 728967.79439485748, 17)\n",
      "(0.81390797858458819, 732517.18072612933, 19)\n",
      "(0.82562213363822712, 734803.69893802213, 21)\n",
      "(0.83635655936010722, 735993.77223689435, 23)\n",
      "(0.84623223102423695, 736222.04099108616, 25)\n",
      "(0.85534823563728002, 735599.48264806077, 27)\n",
      "(0.86378705133621103, 734218.99363577936, 29)\n",
      "(0.87161827230481892, 732159.34873604786, 31)\n",
      "(0.87890130780562437, 729488.08547866822, 33)\n",
      "(0.88568738323696306, 726263.65425430972, 35)\n",
      "(0.89202105363954587, 722537.05344803212, 37)\n",
      "(0.89794136871059194, 718353.09496847354, 39)\n",
      "(0.90348278361709078, 713751.39905750169, 41)\n",
      "(0.90867588101518115, 708767.18719184131, 43)\n",
      "(0.91354795057411697, 703431.92194207013, 45)\n",
      "(0.91812345937729134, 697773.82912674139, 47)\n",
      "(0.92242443765227522, 691818.32823920646, 49)\n",
      "(0.84623223102423695, 736222.04099108616, 25)\n"
     ]
    }
   ],
   "source": [
    "import scipy.misc\n",
    "import math\n",
    "import pandas as pd\n",
    "%matplotlib inline\n",
    "\n",
    "\n",
    "def p_win(k):\n",
    "  i = math.ceil(k / 2)\n",
    "  total = 0.0\n",
    "  while i <= k:\n",
    "    p = scipy.misc.comb(k, i) * 0.6 ** i * 0.4 ** (k - i)\n",
    "    total += p\n",
    "    i += 1\n",
    "  return total\n",
    "\n",
    "\n",
    "def v_win(k):\n",
    "  return (1000000 - 10000 * math.ceil(k / 2)) * p_win(k)\n",
    "\n",
    "sols = []\n",
    "best_sol = (0, 0, 0)\n",
    "for i in range(3, 51, 2):\n",
    "  s1 = p_win(i), v_win(i), i\n",
    "  sols.append(s1)\n",
    "  print(s1)\n",
    "  if s1[1] > best_sol[1]:\n",
    "    best_sol = s1\n",
    "print(best_sol)\n"
   ]
  },
  {
   "cell_type": "code",
   "execution_count": 4,
   "metadata": {
    "collapsed": false
   },
   "outputs": [],
   "source": [
    "df = pd.DataFrame(sols)"
   ]
  },
  {
   "cell_type": "code",
   "execution_count": 5,
   "metadata": {
    "collapsed": true
   },
   "outputs": [],
   "source": [
    "df.columns = ['p', 'v', 'g']"
   ]
  },
  {
   "cell_type": "code",
   "execution_count": 11,
   "metadata": {
    "collapsed": false
   },
   "outputs": [
    {
     "data": {
      "text/plain": [
       "<matplotlib.axes._subplots.AxesSubplot at 0x7f5b8749e240>"
      ]
     },
     "execution_count": 11,
     "metadata": {},
     "output_type": "execute_result"
    },
    {
     "data": {
      "image/png": "[encoded data removed]",
      "text/plain": [
       "<matplotlib.figure.Figure at 0x7f5b87091ef0>"
      ]
     },
     "metadata": {},
     "output_type": "display_data"
    }
   ],
   "source": [
    "df.plot(y='v',x='g')"
   ]
  },
  {
   "cell_type": "code",
   "execution_count": 12,
   "metadata": {
    "collapsed": false
   },
   "outputs": [
    {
     "data": {
      "text/plain": [
       "<matplotlib.axes._subplots.AxesSubplot at 0x7f5b860a20b8>"
      ]
     },
     "execution_count": 12,
     "metadata": {},
     "output_type": "execute_result"
    },
    {
     "data": {
      "image/png": "[encoded data removed]",
      "text/plain": [
       "<matplotlib.figure.Figure at 0x7f5b86051668>"
      ]
     },
     "metadata": {},
     "output_type": "display_data"
    }
   ],
   "source": [
    "df.plot(y='p', x='g')"
   ]
  },
  {
   "cell_type": "code",
   "execution_count": 15,
   "metadata": {
    "collapsed": false
   },
   "outputs": [
    {
     "data": {
      "text/html": [
       "<div>\n",
       "<table border=\"1\" class=\"dataframe\">\n",
       "  <thead>\n",
       "    <tr style=\"text-align: right;\">\n",
       "      <th></th>\n",
       "      <th>p</th>\n",
       "      <th>v</th>\n",
       "      <th>g</th>\n",
       "    </tr>\n",
       "  </thead>\n",
       "  <tbody>\n",
       "    <tr>\n",
       "      <th>11</th>\n",
       "      <td>0.846232</td>\n",
       "      <td>736222.040991</td>\n",
       "      <td>25</td>\n",
       "    </tr>\n",
       "  </tbody>\n",
       "</table>\n",
       "</div>"
      ],
      "text/plain": [
       "           p              v   g\n",
       "11  0.846232  736222.040991  25"
      ]
     },
     "execution_count": 15,
     "metadata": {},
     "output_type": "execute_result"
    }
   ],
   "source": [
    "df[df['v'] == df['v'].max()]"
   ]
  },
  {
   "cell_type": "code",
   "execution_count": null,
   "metadata": {
    "collapsed": true
   },
   "outputs": [],
   "source": []
  }
 ],
 "metadata": {
  "kernelspec": {
   "display_name": "Python 3",
   "language": "python",
   "name": "python3"
  },
  "language_info": {
   "codemirror_mode": {
    "name": "ipython",
    "version": 3
   },
   "file_extension": ".py",
   "mimetype": "text/x-python",
   "name": "python",
   "nbconvert_exporter": "python",
   "pygments_lexer": "ipython3",
   "version": "3.4.5"
  }
 },
 "nbformat": 4,
 "nbformat_minor": 2
}
