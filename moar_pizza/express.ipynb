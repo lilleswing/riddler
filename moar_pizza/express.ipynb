{
 "cells": [
  {
   "cell_type": "code",
   "execution_count": 1,
   "metadata": {
    "collapsed": true
   },
   "outputs": [],
   "source": [
    "import random"
   ]
  },
  {
   "cell_type": "code",
   "execution_count": 7,
   "metadata": {
    "collapsed": true
   },
   "outputs": [],
   "source": [
    "def dist(x1,x2,y1,y2):\n",
    "    return (x1 - x2) ** 2 + (y1 - y2) ** 2 < 1\n",
    "\n",
    "def sample():\n",
    "    x = random.random() * 2 - 1\n",
    "    y = random.random() * 2 - 1\n",
    "    c1 = dist(0,x,0,y)\n",
    "    c2 = dist(-1,x,0,y)\n",
    "    if c1 and c2:\n",
    "        return 1\n",
    "    if c1 and not c2:\n",
    "        return 2\n",
    "    return 0\n",
    "        "
   ]
  },
  {
   "cell_type": "code",
   "execution_count": 11,
   "metadata": {
    "collapsed": false
   },
   "outputs": [
    {
     "name": "stdout",
     "output_type": "stream",
     "text": [
      "[2146031, 3068842, 4785127]\n"
     ]
    }
   ],
   "source": [
    "buckets = [0] * 3\n",
    "for i in range(10000000):\n",
    "    buckets[sample()] += 1\n",
    "print(buckets)"
   ]
  },
  {
   "cell_type": "code",
   "execution_count": 13,
   "metadata": {
    "collapsed": false
   },
   "outputs": [
    {
     "name": "stdout",
     "output_type": "stream",
     "text": [
      "Pick Football\n"
     ]
    }
   ],
   "source": [
    "if 2 * buckets[1] > buckets[2]:\n",
    "    print(\"Pick Football\")\n",
    "else:\n",
    "    print(\"Pick Crescent\")\n",
    "        "
   ]
  },
  {
   "cell_type": "code",
   "execution_count": 14,
   "metadata": {
    "collapsed": false
   },
   "outputs": [
    {
     "data": {
      "text/plain": [
       "1.2826585375894934"
      ]
     },
     "execution_count": 14,
     "metadata": {},
     "output_type": "execute_result"
    }
   ],
   "source": [
    "2 * buckets[1] / buckets[2]"
   ]
  }
 ],
 "metadata": {
  "kernelspec": {
   "display_name": "Python 3",
   "language": "python",
   "name": "python3"
  },
  "language_info": {
   "codemirror_mode": {
    "name": "ipython",
    "version": 3
   },
   "file_extension": ".py",
   "mimetype": "text/x-python",
   "name": "python",
   "nbconvert_exporter": "python",
   "pygments_lexer": "ipython3",
   "version": "3.4.5"
  }
 },
 "nbformat": 4,
 "nbformat_minor": 2
}
