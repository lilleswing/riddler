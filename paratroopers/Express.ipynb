{
 "cells": [
  {
   "cell_type": "code",
   "execution_count": 71,
   "metadata": {},
   "outputs": [],
   "source": [
    "import numpy.linalg\n",
    "def ev(g, start, stop):\n",
    "    \"\"\"\n",
    "    Get expected value to go from start to stop in a transition matrix g\n",
    "    \"\"\"\n",
    "    g2 = np.delete(g, stop, axis=0)\n",
    "    g2 = np.delete(g2, stop, axis=1)\n",
    "    eye = np.eye(len(g2))\n",
    "    g2 = eye - g2\n",
    "    if start > stop:\n",
    "        start -= 1\n",
    "    try:\n",
    "        return numpy.linalg.solve(g2, np.ones((len(g2),)))[start]\n",
    "    except:\n",
    "        return numpy.linalg.lstsq(g2, np.ones((len(g2),)))[0][start]\n",
    "    \n",
    "def end_states(g, start, stop):\n",
    "    v = np.zeros((len(g),1))\n",
    "    v[start] = 1.0\n",
    "    v1 = v\n",
    "    for i in range(100000):\n",
    "        v1 = np.matmul(g,v1)\n",
    "    return v1\n",
    "    \n",
    "    "
   ]
  },
  {
   "cell_type": "code",
   "execution_count": 2,
   "metadata": {},
   "outputs": [],
   "source": [
    "states = []\n",
    "for i in range(4):\n",
    "    for j in range(4):\n",
    "        if i + j == 3:\n",
    "            states.append((i,j))\n"
   ]
  },
  {
   "cell_type": "code",
   "execution_count": 50,
   "metadata": {},
   "outputs": [],
   "source": [
    "import numpy as np\n",
    "g = np.zeros((len(states), len(states)))\n",
    "for i, state in enumerate(states):\n",
    "    if state == (3,0):\n",
    "        g[i][i] = 1.0\n",
    "        continue\n",
    "    if state == (0,3):\n",
    "        g[i][i] = 1.0\n",
    "        continue\n",
    "    i_win = state[0] + 1, state[1] - 1\n",
    "    if i_win in states:\n",
    "        i_win_index = states.index(i_win)\n",
    "        g[i][i_win_index] = 2.0/3.0\n",
    "    i_lose = state[0] -1, state[1] + 1\n",
    "    if i_lose in states:\n",
    "        i_lose_index = states.index(i_lose)\n",
    "        g[i][i_lose_index] = 1.0/3.0\n",
    "g = np.transpose(g)"
   ]
  },
  {
   "cell_type": "code",
   "execution_count": 24,
   "metadata": {},
   "outputs": [
    {
     "name": "stderr",
     "output_type": "stream",
     "text": [
      "/home/leswing/miniconda3/lib/python3.6/site-packages/ipykernel_launcher.py:15: FutureWarning: `rcond` parameter will change to the default of machine precision times ``max(M, N)`` where M and N are the input matrix dimensions.\n",
      "To use the future default and silence this warning we advise to pass `rcond=None`, to keep using the old, explicitly pass `rcond=-1`.\n",
      "  from ipykernel import kernelapp as app\n"
     ]
    },
    {
     "data": {
      "text/plain": [
       "1.7288135593220335"
      ]
     },
     "execution_count": 24,
     "metadata": {},
     "output_type": "execute_result"
    }
   ],
   "source": [
    "start = states.index((1,2))\n",
    "end = states.index((3,0))\n",
    "ev(g, start, end)"
   ]
  },
  {
   "cell_type": "code",
   "execution_count": 72,
   "metadata": {},
   "outputs": [
    {
     "data": {
      "text/plain": [
       "array([[0.42857143],\n",
       "       [0.        ],\n",
       "       [0.        ],\n",
       "       [0.57142857]])"
      ]
     },
     "execution_count": 72,
     "metadata": {},
     "output_type": "execute_result"
    }
   ],
   "source": [
    "end_states(g, start, end)"
   ]
  },
  {
   "cell_type": "code",
   "execution_count": null,
   "metadata": {},
   "outputs": [],
   "source": []
  }
 ],
 "metadata": {
  "kernelspec": {
   "display_name": "Python 3",
   "language": "python",
   "name": "python3"
  },
  "language_info": {
   "codemirror_mode": {
    "name": "ipython",
    "version": 3
   },
   "file_extension": ".py",
   "mimetype": "text/x-python",
   "name": "python",
   "nbconvert_exporter": "python",
   "pygments_lexer": "ipython3",
   "version": "3.6.3"
  }
 },
 "nbformat": 4,
 "nbformat_minor": 2
}
