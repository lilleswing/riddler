{
 "cells": [
  {
   "cell_type": "code",
   "execution_count": 6,
   "metadata": {
    "collapsed": false
   },
   "outputs": [],
   "source": [
    "import scipy.misc\n",
    "\n",
    "def prob_buckets(p, n):\n",
    "    \"\"\"\n",
    "    return the probability of 0 heads through n heads\n",
    "    \"\"\"\n",
    "    l = [0] * (n+1)\n",
    "    for k in range(n+1):\n",
    "        l[k] = scipy.misc.comb(n, k) * (p**k) * (1-p)**(n-k)\n",
    "    return l\n",
    "    "
   ]
  },
  {
   "cell_type": "code",
   "execution_count": 21,
   "metadata": {
    "collapsed": false
   },
   "outputs": [],
   "source": [
    "def comp_buckets(ba, bb):\n",
    "    \"\"\"\n",
    "    What is the probability that bb has more heads than ba\n",
    "    \n",
    "    If number of heads is equal take a random guess and have 0.5\n",
    "    chance of guessing right\n",
    "    \"\"\"\n",
    "    total = 0\n",
    "    for i in range(1, len(bb)):\n",
    "        for j in range(0, i):\n",
    "            total += ba[j] * bb[i]\n",
    "    \n",
    "    for i in range(0, len(bb)):\n",
    "        total += 0.5 * ba[i] * bb[i]\n",
    "    return total"
   ]
  },
  {
   "cell_type": "code",
   "execution_count": 29,
   "metadata": {
    "collapsed": false
   },
   "outputs": [
    {
     "name": "stdout",
     "output_type": "stream",
     "text": [
      "10 0.67181132375\n",
      "20 0.736711079686\n",
      "30 0.781481397956\n",
      "40 0.815512354857\n",
      "50 0.842569899943\n",
      "60 0.86465473845\n",
      "70 0.882994260669\n",
      "80 0.898410787126\n",
      "90 0.911488826186\n",
      "100 0.922661720505\n",
      "110 0.932260939364\n",
      "120 0.94054616542\n",
      "130 0.947724695335\n"
     ]
    }
   ],
   "source": [
    "p = 0.5\n",
    "i = 0\n",
    "probs = []\n",
    "while p < 0.95:\n",
    "    i += 1\n",
    "    ba = prob_buckets(0.5, i)\n",
    "    bb = prob_buckets(0.6, i)\n",
    "    p = comp_buckets(ba, bb)\n",
    "    probs.append(p)\n",
    "    if i % 10 == 0:\n",
    "        print(i, p)"
   ]
  },
  {
   "cell_type": "code",
   "execution_count": 31,
   "metadata": {
    "collapsed": false
   },
   "outputs": [
    {
     "data": {
      "text/plain": [
       "[<matplotlib.lines.Line2D at 0x7fcb1c9bc128>]"
      ]
     },
     "execution_count": 31,
     "metadata": {},
     "output_type": "execute_result"
    },
    {
     "data": {
      "image/png": "[encoded data removed]",
      "text/plain": [
       "<matplotlib.figure.Figure at 0x7fcb1cafe5c0>"
      ]
     },
     "metadata": {},
     "output_type": "display_data"
    }
   ],
   "source": [
    "import matplotlib.pyplot as plt\n",
    "%matplotlib inline\n",
    "\n",
    "plt.plot(probs)"
   ]
  },
  {
   "cell_type": "code",
   "execution_count": 32,
   "metadata": {
    "collapsed": false
   },
   "outputs": [
    {
     "name": "stdout",
     "output_type": "stream",
     "text": [
      "134\n"
     ]
    }
   ],
   "source": [
    "print(i)"
   ]
  },
  {
   "cell_type": "code",
   "execution_count": null,
   "metadata": {
    "collapsed": true
   },
   "outputs": [],
   "source": []
  }
 ],
 "metadata": {
  "kernelspec": {
   "display_name": "Python 3",
   "language": "python",
   "name": "python3"
  },
  "language_info": {
   "codemirror_mode": {
    "name": "ipython",
    "version": 3
   },
   "file_extension": ".py",
   "mimetype": "text/x-python",
   "name": "python",
   "nbconvert_exporter": "python",
   "pygments_lexer": "ipython3",
   "version": "3.4.5"
  }
 },
 "nbformat": 4,
 "nbformat_minor": 2
}
