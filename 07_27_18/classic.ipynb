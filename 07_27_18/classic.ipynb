{
 "cells": [
  {
   "cell_type": "code",
   "execution_count": 83,
   "metadata": {},
   "outputs": [],
   "source": [
    "import numpy as np"
   ]
  },
  {
   "cell_type": "code",
   "execution_count": 84,
   "metadata": {},
   "outputs": [],
   "source": [
    "def on_board(p):\n",
    "    r, c = p\n",
    "    if 0 <= r < 5 and 0 <= c < 5:\n",
    "        return True\n",
    "    return False\n",
    "\n",
    "def enumerate_moves(p):\n",
    "    r, c = p\n",
    "    m = [\n",
    "        (r+3, c),\n",
    "        (r-3, c),\n",
    "        (r, c+3),\n",
    "        (r, c-3),\n",
    "        (r+2, c+2),\n",
    "        (r+2, c-2),\n",
    "        (r-2, c+2),\n",
    "        (r-2, c-2)\n",
    "    ]\n",
    "    return [x for x in m if on_board(x)]\n",
    "\n",
    "def board_to_key(board):\n",
    "    return tuple(board.flatten().tolist())\n",
    "\n",
    "def dfs(board, state_set, p, path, best_sol):\n",
    "    board_key = board_to_key(board)\n",
    "    if board_key in state_set:\n",
    "        return\n",
    "    state_set.add(board_key)\n",
    "    if len(path) > len(best_sol):\n",
    "        best_sol.clear()\n",
    "        best_sol.extend(path)\n",
    "    moves = enumerate_moves(p)\n",
    "    for move in moves:\n",
    "        r,c = move\n",
    "        if board[r][c]:\n",
    "            continue\n",
    "        board[r][c] = True\n",
    "        path.append(move)\n",
    "        dfs(board, state_set, move, path, best_sol)\n",
    "        path.pop()\n",
    "        board[r][c] = False"
   ]
  },
  {
   "cell_type": "code",
   "execution_count": 87,
   "metadata": {},
   "outputs": [],
   "source": [
    "import matplotlib.pyplot as plt\n",
    "import os\n",
    "def save_board(board, fname, last_move):\n",
    "    filled, empty = [], []\n",
    "    for r in range(0,5):\n",
    "        for c in range(0,5):\n",
    "            if board[r][c]:\n",
    "                filled.append((r,c))\n",
    "            else:\n",
    "                empty.append((r,c))\n",
    "    plt.cla()\n",
    "    plt.scatter([x[1] for x in filled], [x[0] for x in filled], color=\"blue\")\n",
    "    plt.scatter([x[1] for x in empty], [x[0] for x in empty], color=\"orange\")\n",
    "    plt.scatter([last_move[1]], [last_move[0]], color=\"green\")\n",
    "    plt.savefig(fname)\n",
    "    \n",
    "def plot_path(path):\n",
    "    board = np.zeros((5,5), dtype=np.bool)\n",
    "    if not os.path.exists(\"riddler_boards\"):\n",
    "        os.mkdir(\"riddler_boards\")\n",
    "    folder = \"riddler_boards/%s_%s\" % (path[0][0], path[0][1])\n",
    "    if not os.path.exists(folder):\n",
    "        os.mkdir(folder)\n",
    "    for i, move in enumerate(path):\n",
    "        r,c = move\n",
    "        board[r][c] = True\n",
    "        fname = os.path.join(folder, \"%02d.png\" % i)\n",
    "        save_board(board, fname, move)\n",
    "            \n",
    "            \n",
    "    "
   ]
  },
  {
   "cell_type": "code",
   "execution_count": 88,
   "metadata": {},
   "outputs": [
    {
     "data": {
      "image/png": "[encoded data removed]",
      "text/plain": [
       "<Figure size 432x288 with 1 Axes>"
      ]
     },
     "metadata": {},
     "output_type": "display_data"
    }
   ],
   "source": [
    "for r in range(0,5):\n",
    "    for c in range(0,5):\n",
    "        board = np.zeros((5,5), dtype=np.bool)\n",
    "        board[r][c] = True\n",
    "        p = (r,c)\n",
    "        path = [p]\n",
    "        best_sol = []\n",
    "        dfs(board, set(), p, path, best_sol)\n",
    "        plot_path(best_sol)"
   ]
  },
  {
   "cell_type": "code",
   "execution_count": 82,
   "metadata": {},
   "outputs": [
    {
     "name": "stdout",
     "output_type": "stream",
     "text": [
      "convert -delay 100 -loop 0 riddler_boards/0_0/*.png gifs/0_0.gif\n",
      "\n",
      "\n",
      "convert -delay 100 -loop 0 riddler_boards/0_1/*.png gifs/0_1.gif\n",
      "\n",
      "\n",
      "convert -delay 100 -loop 0 riddler_boards/0_2/*.png gifs/0_2.gif\n",
      "\n",
      "\n",
      "convert -delay 100 -loop 0 riddler_boards/0_3/*.png gifs/0_3.gif\n",
      "\n",
      "\n",
      "convert -delay 100 -loop 0 riddler_boards/0_4/*.png gifs/0_4.gif\n",
      "\n",
      "\n",
      "convert -delay 100 -loop 0 riddler_boards/1_0/*.png gifs/1_0.gif\n",
      "\n",
      "\n",
      "convert -delay 100 -loop 0 riddler_boards/1_1/*.png gifs/1_1.gif\n",
      "\n",
      "\n",
      "convert -delay 100 -loop 0 riddler_boards/1_2/*.png gifs/1_2.gif\n",
      "\n",
      "\n",
      "convert -delay 100 -loop 0 riddler_boards/1_3/*.png gifs/1_3.gif\n",
      "\n",
      "\n",
      "convert -delay 100 -loop 0 riddler_boards/1_4/*.png gifs/1_4.gif\n",
      "\n",
      "\n",
      "convert -delay 100 -loop 0 riddler_boards/2_0/*.png gifs/2_0.gif\n",
      "\n",
      "\n",
      "convert -delay 100 -loop 0 riddler_boards/2_1/*.png gifs/2_1.gif\n",
      "\n",
      "\n",
      "convert -delay 100 -loop 0 riddler_boards/2_2/*.png gifs/2_2.gif\n",
      "\n",
      "\n",
      "convert -delay 100 -loop 0 riddler_boards/2_3/*.png gifs/2_3.gif\n",
      "\n",
      "\n",
      "convert -delay 100 -loop 0 riddler_boards/2_4/*.png gifs/2_4.gif\n",
      "\n",
      "\n",
      "convert -delay 100 -loop 0 riddler_boards/3_0/*.png gifs/3_0.gif\n",
      "\n",
      "\n",
      "convert -delay 100 -loop 0 riddler_boards/3_1/*.png gifs/3_1.gif\n",
      "\n",
      "\n",
      "convert -delay 100 -loop 0 riddler_boards/3_2/*.png gifs/3_2.gif\n",
      "\n",
      "\n",
      "convert -delay 100 -loop 0 riddler_boards/3_3/*.png gifs/3_3.gif\n",
      "\n",
      "\n",
      "convert -delay 100 -loop 0 riddler_boards/3_4/*.png gifs/3_4.gif\n",
      "\n",
      "\n",
      "convert -delay 100 -loop 0 riddler_boards/4_0/*.png gifs/4_0.gif\n",
      "\n",
      "\n",
      "convert -delay 100 -loop 0 riddler_boards/4_1/*.png gifs/4_1.gif\n",
      "\n",
      "\n",
      "convert -delay 100 -loop 0 riddler_boards/4_2/*.png gifs/4_2.gif\n",
      "\n",
      "\n",
      "convert -delay 100 -loop 0 riddler_boards/4_3/*.png gifs/4_3.gif\n",
      "\n",
      "\n",
      "convert -delay 100 -loop 0 riddler_boards/4_4/*.png gifs/4_4.gif\n",
      "\n",
      "\n"
     ]
    }
   ],
   "source": [
    "import delegator\n",
    "if os.path.exists(\"gifs\"):\n",
    "    os.mkdir(\"gifs\")\n",
    "for r in range(0,5):\n",
    "    for c in range(0,5):\n",
    "        out_name = \"gifs/%d_%d.gif\" % (r,c)\n",
    "        in_names = \"riddler_boards/%s_%s/*.png\" % (r,c)\n",
    "        cmd = \"convert -delay 100 -loop 0 %s %s\" % (in_names, out_name)\n",
    "        print(cmd)\n",
    "        result = delegator.run(cmd)\n",
    "        print(result.out)\n",
    "        print(result.err)"
   ]
  },
  {
   "cell_type": "code",
   "execution_count": 80,
   "metadata": {},
   "outputs": [
    {
     "data": {
      "text/plain": [
       "'/home/leswing/Documents/riddler/07_27_18'"
      ]
     },
     "execution_count": 80,
     "metadata": {},
     "output_type": "execute_result"
    }
   ],
   "source": [
    "pwd"
   ]
  },
  {
   "cell_type": "code",
   "execution_count": null,
   "metadata": {},
   "outputs": [],
   "source": []
  }
 ],
 "metadata": {
  "kernelspec": {
   "display_name": "Python 3",
   "language": "python",
   "name": "python3"
  },
  "language_info": {
   "codemirror_mode": {
    "name": "ipython",
    "version": 3
   },
   "file_extension": ".py",
   "mimetype": "text/x-python",
   "name": "python",
   "nbconvert_exporter": "python",
   "pygments_lexer": "ipython3",
   "version": "3.5.5"
  }
 },
 "nbformat": 4,
 "nbformat_minor": 2
}
