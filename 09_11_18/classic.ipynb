{
 "cells": [
  {
   "cell_type": "code",
   "execution_count": 14,
   "metadata": {},
   "outputs": [],
   "source": [
    "import numpy as np\n",
    "def monte_carlo(num_cards=100, num_cards_in_pack=10):\n",
    "    v = np.zeros(num_cards, dtype=np.bool)\n",
    "    ids = list(range(num_cards))\n",
    "    num_packs = 0\n",
    "    while not np.all(v):\n",
    "        pack = np.random.choice(ids, size=num_cards_in_pack, replace=False)\n",
    "        v[pack] = True\n",
    "        num_packs += 1\n",
    "    return num_packs\n",
    "    "
   ]
  },
  {
   "cell_type": "code",
   "execution_count": 35,
   "metadata": {},
   "outputs": [],
   "source": [
    "def mc_closure(x):\n",
    "    return monte_carlo(*x)\n",
    "num_runs = 10**5\n",
    "from multiprocessing.pool import Pool\n",
    "pool = Pool(processes=4)\n",
    "runs = pool.map(mc_closure, [(100,10) for x in range(num_runs)])"
   ]
  },
  {
   "cell_type": "code",
   "execution_count": 36,
   "metadata": {},
   "outputs": [],
   "source": [
    "import matplotlib.pyplot as plt\n",
    "%matplotlib inline"
   ]
  },
  {
   "cell_type": "code",
   "execution_count": 37,
   "metadata": {},
   "outputs": [
    {
     "name": "stdout",
     "output_type": "stream",
     "text": [
      "50.01156 12.05585942048098\n"
     ]
    },
    {
     "data": {
      "text/plain": [
       "(array([6.8440e+03, 4.5052e+04, 3.2948e+04, 1.1552e+04, 2.6800e+03,\n",
       "        6.3200e+02, 2.2000e+02, 5.6000e+01, 8.0000e+00, 8.0000e+00]),\n",
       " array([ 22. ,  35.3,  48.6,  61.9,  75.2,  88.5, 101.8, 115.1, 128.4,\n",
       "        141.7, 155. ]),\n",
       " <a list of 10 Patch objects>)"
      ]
     },
     "execution_count": 37,
     "metadata": {},
     "output_type": "execute_result"
    },
    {
     "data": {
      "image/png": "[encoded data removed]",
      "text/plain": [
       "<Figure size 432x288 with 1 Axes>"
      ]
     },
     "metadata": {},
     "output_type": "display_data"
    }
   ],
   "source": [
    "print(np.mean(runs), np.std(runs))\n",
    "plt.hist(runs)"
   ]
  },
  {
   "cell_type": "code",
   "execution_count": 33,
   "metadata": {},
   "outputs": [
    {
     "data": {
      "text/plain": [
       "(186.0378, 37.69752738788049)"
      ]
     },
     "execution_count": 33,
     "metadata": {},
     "output_type": "execute_result"
    }
   ],
   "source": [
    "np.mean(runs), np.std(runs)"
   ]
  },
  {
   "cell_type": "code",
   "execution_count": 28,
   "metadata": {},
   "outputs": [],
   "source": [
    "def mc_closure(x):\n",
    "    return monte_carlo(*x)\n",
    "num_runs = 10**5\n",
    "from multiprocessing.pool import Pool\n",
    "pool = Pool(processes=4)\n",
    "runs = pool.map(mc_closure, [(300,10) for x in range(num_runs)])\n"
   ]
  },
  {
   "cell_type": "code",
   "execution_count": 34,
   "metadata": {},
   "outputs": [
    {
     "name": "stdout",
     "output_type": "stream",
     "text": [
      "186.0378 37.69752738788049\n"
     ]
    },
    {
     "data": {
      "text/plain": [
       "(array([3.3200e+03, 3.4020e+04, 3.8384e+04, 1.6312e+04, 5.6080e+03,\n",
       "        1.6440e+03, 5.1600e+02, 1.3200e+02, 4.0000e+01, 2.4000e+01]),\n",
       " array([ 97. , 133.5, 170. , 206.5, 243. , 279.5, 316. , 352.5, 389. ,\n",
       "        425.5, 462. ]),\n",
       " <a list of 10 Patch objects>)"
      ]
     },
     "execution_count": 34,
     "metadata": {},
     "output_type": "execute_result"
    },
    {
     "data": {
      "image/png": "[encoded data removed]",
      "text/plain": [
       "<Figure size 432x288 with 1 Axes>"
      ]
     },
     "metadata": {},
     "output_type": "display_data"
    }
   ],
   "source": [
    "print(np.mean(runs), np.std(runs))\n",
    "plt.hist(runs)"
   ]
  },
  {
   "cell_type": "code",
   "execution_count": null,
   "metadata": {},
   "outputs": [],
   "source": []
  }
 ],
 "metadata": {
  "kernelspec": {
   "display_name": "Python 3",
   "language": "python",
   "name": "python3"
  },
  "language_info": {
   "codemirror_mode": {
    "name": "ipython",
    "version": 3
   },
   "file_extension": ".py",
   "mimetype": "text/x-python",
   "name": "python",
   "nbconvert_exporter": "python",
   "pygments_lexer": "ipython3",
   "version": "3.6.6"
  }
 },
 "nbformat": 4,
 "nbformat_minor": 2
}
