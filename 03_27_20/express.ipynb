{
 "cells": [
  {
   "cell_type": "code",
   "execution_count": null,
   "metadata": {},
   "outputs": [],
   "source": [
    "# Dynamic Programming Calculating Number Of Ways To Pull Out Gloves\n",
    "\n",
    "# Set Up Base Case\n",
    "dp = [0] * 11\n",
    "dp[0] = 1\n",
    "\n",
    "# Run DP\n",
    "for box_gloves in range(1, 11):\n",
    "    total = 0\n",
    "    for pulled_gloves in [2,3,4]:\n",
    "        if box_gloves - pulled_gloves < 0:\n",
    "            continue\n",
    "        total += dp[box_gloves - pulled_gloves]\n",
    "    dp[box_gloves] = total\n",
    "print(dp[10])"
   ]
  },
  {
   "cell_type": "code",
   "execution_count": null,
   "metadata": {},
   "outputs": [],
   "source": []
  }
 ],
 "metadata": {
  "kernelspec": {
   "display_name": "Python 3",
   "language": "python",
   "name": "python3"
  },
  "language_info": {
   "codemirror_mode": {
    "name": "ipython",
    "version": 3
   },
   "file_extension": ".py",
   "mimetype": "text/x-python",
   "name": "python",
   "nbconvert_exporter": "python",
   "pygments_lexer": "ipython3",
   "version": "3.6.10"
  }
 },
 "nbformat": 4,
 "nbformat_minor": 4
}
