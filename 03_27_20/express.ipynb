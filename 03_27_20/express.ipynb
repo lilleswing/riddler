{
 "cells": [
  {
   "cell_type": "code",
   "execution_count": 1,
   "metadata": {},
   "outputs": [
    {
     "name": "stdout",
     "output_type": "stream",
     "text": [
      "17\n"
     ]
    }
   ],
   "source": [
    "# Dynamic Programming Calculating Number Of Ways To Pull Out Gloves\n",
    "\n",
    "# Set Up Base Case\n",
    "dp = [0] * 11\n",
    "dp[0] = 1\n",
    "\n",
    "# Run DP\n",
    "for box_gloves in range(1, 11):\n",
    "    total = 0\n",
    "    for pulled_gloves in [2,3,4]:\n",
    "        if box_gloves - pulled_gloves < 0:\n",
    "            continue\n",
    "        total += dp[box_gloves - pulled_gloves]\n",
    "    dp[box_gloves] = total\n",
    "print(dp[10])"
   ]
  },
  {
   "cell_type": "code",
   "execution_count": 8,
   "metadata": {},
   "outputs": [
    {
     "name": "stdout",
     "output_type": "stream",
     "text": [
      "[2, 4, 4]\n",
      "[3, 3, 4]\n",
      "[3, 4, 3]\n",
      "[4, 2, 4]\n",
      "[4, 3, 3]\n",
      "[4, 4, 2]\n",
      "[2, 2, 2, 4]\n",
      "[2, 2, 3, 3]\n",
      "[2, 2, 4, 2]\n",
      "[2, 3, 2, 3]\n",
      "[2, 3, 3, 2]\n",
      "[2, 4, 2, 2]\n",
      "[3, 2, 2, 3]\n",
      "[3, 2, 3, 2]\n",
      "[3, 3, 2, 2]\n",
      "[4, 2, 2, 2]\n",
      "[2, 2, 2, 2, 2]\n"
     ]
    }
   ],
   "source": [
    "# Lets Actually Enumerate All Possible Paths\n",
    "def dfs(n_gloves, path, accumulator):\n",
    "    if n_gloves < 0:\n",
    "        return\n",
    "    if n_gloves == 0:\n",
    "        accumulator.append(list(path))\n",
    "    for pulled_gloves in [2,3,4]:\n",
    "        new_path = path + [pulled_gloves]\n",
    "        dfs(n_gloves - pulled_gloves, new_path, accumulator)\n",
    "all_paths = []\n",
    "dfs(10, [], all_paths)\n",
    "all_paths = sorted(all_paths, key=lambda x: len(x))\n",
    "for path in all_paths:\n",
    "    print(path)"
   ]
  }
 ],
 "metadata": {
  "kernelspec": {
   "display_name": "Python 3",
   "language": "python",
   "name": "python3"
  },
  "language_info": {
   "codemirror_mode": {
    "name": "ipython",
    "version": 3
   },
   "file_extension": ".py",
   "mimetype": "text/x-python",
   "name": "python",
   "nbconvert_exporter": "python",
   "pygments_lexer": "ipython3",
   "version": "3.6.10"
  }
 },
 "nbformat": 4,
 "nbformat_minor": 4
}
