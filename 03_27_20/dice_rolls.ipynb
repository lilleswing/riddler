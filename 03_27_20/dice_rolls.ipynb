{
 "cells": [
  {
   "cell_type": "code",
   "execution_count": 1,
   "metadata": {},
   "outputs": [],
   "source": [
    "import random\n",
    "import numpy as np\n",
    "from collections import Counter\n",
    "from itertools import product"
   ]
  },
  {
   "cell_type": "code",
   "execution_count": 2,
   "metadata": {},
   "outputs": [],
   "source": [
    "def run_experiment():\n",
    "    \"\"\"\n",
    "    Runs the Experiment On A Six Sided Die\n",
    "    Returns the Number Of Rolls required to reduce to a single number\n",
    "    \"\"\"\n",
    "    turns = 0\n",
    "    all_die = [1+x for x in range(6)]\n",
    "    while 1 != len(set(all_die)):\n",
    "        all_die = [random.choice(all_die) for x in all_die]\n",
    "        turns += 1\n",
    "    return turns"
   ]
  },
  {
   "cell_type": "code",
   "execution_count": 3,
   "metadata": {},
   "outputs": [],
   "source": [
    "# Sample it to see what we are looking at\n",
    "distributions = [run_experiment() for x in range(100_000)]"
   ]
  },
  {
   "cell_type": "code",
   "execution_count": 4,
   "metadata": {},
   "outputs": [
    {
     "name": "stdout",
     "output_type": "stream",
     "text": [
      "9.65541\n"
     ]
    },
    {
     "data": {
      "image/png": "[encoded data removed]",
      "text/plain": [
       "<Figure size 432x288 with 1 Axes>"
      ]
     },
     "metadata": {
      "needs_background": "light"
     },
     "output_type": "display_data"
    }
   ],
   "source": [
    "import matplotlib.pyplot as plt\n",
    "%matplotlib inline\n",
    "# Plot it to look at the distribution\n",
    "plt.hist(distributions)\n",
    "print(np.mean(distributions))"
   ]
  },
  {
   "cell_type": "code",
   "execution_count": 5,
   "metadata": {},
   "outputs": [],
   "source": [
    "# Start Working On Closed Form Solution By Brute Forcing Transition Matrix\n",
    "# States will be the distribution of counts of die faces\n",
    "# e.g. (1,1,1, 1,1,1) Will Be the initial State\n",
    "# (3, 3) Will be two faces have three sides each\n",
    "# (6,) Will be the goal state (single number on every die)\n",
    "\n",
    "#Calculate all possible rolls of a 6 sided die\n",
    "die = [1 + x for x in range(6)]\n",
    "all_rolls = []\n",
    "for elem in product(die, repeat=6):\n",
    "    all_rolls.append(elem)"
   ]
  },
  {
   "cell_type": "code",
   "execution_count": 6,
   "metadata": {},
   "outputs": [
    {
     "data": {
      "text/plain": [
       "Counter({(6,): 6,\n",
       "         (1, 5): 180,\n",
       "         (2, 4): 450,\n",
       "         (1, 1, 4): 1800,\n",
       "         (3, 3): 300,\n",
       "         (1, 2, 3): 7200,\n",
       "         (1, 1, 1, 3): 7200,\n",
       "         (2, 2, 2): 1800,\n",
       "         (1, 1, 2, 2): 16200,\n",
       "         (1, 1, 1, 1, 2): 10800,\n",
       "         (1, 1, 1, 1, 1, 1): 720})"
      ]
     },
     "execution_count": 6,
     "metadata": {},
     "output_type": "execute_result"
    }
   ],
   "source": [
    "# Convert the rolls to number of transitions between possible states as outlined above\n",
    "def to_counts(rolls):\n",
    "    c = Counter()\n",
    "    for elem in rolls:\n",
    "        c[elem] += 1\n",
    "    return tuple(sorted(c.values()))\n",
    "\n",
    "transition_weights = Counter()\n",
    "for elem in all_rolls:\n",
    "    transition_weights[to_counts(elem)] += 1\n",
    "\n",
    "states = sorted(transition_weights.keys(), key=lambda x: len(x), reverse=True) # Save for later will be lookup into transition matrix\n",
    "transition_weights"
   ]
  },
  {
   "cell_type": "code",
   "execution_count": 7,
   "metadata": {},
   "outputs": [],
   "source": [
    "def get_transition_probabilities(state, states):\n",
    "    \"\"\"\n",
    "    state: Distribution of Die Faces to Calculate\n",
    "    states: Ordering of possible states to calculate probabilities for\n",
    "    \"\"\"\n",
    "    dice = []\n",
    "    for number in range(len(state)):\n",
    "        desired_count = state[number]\n",
    "        for count in range(desired_count):\n",
    "            dice.append(number)\n",
    "    all_rolls = []\n",
    "    for roll in product(dice, repeat=6):\n",
    "        all_rolls.append(roll)\n",
    "    \n",
    "    transition_weights = Counter()\n",
    "    for elem in all_rolls:\n",
    "        transition_weights[to_counts(elem)] += 1\n",
    "    return [transition_weights[x]/sum(transition_weights.values()) for x in states]"
   ]
  },
  {
   "cell_type": "code",
   "execution_count": 8,
   "metadata": {},
   "outputs": [
    {
     "data": {
      "text/plain": [
       "<matplotlib.image.AxesImage at 0x11dba1cf8>"
      ]
     },
     "execution_count": 8,
     "metadata": {},
     "output_type": "execute_result"
    },
    {
     "data": {
      "image/png": "[encoded data removed]",
      "text/plain": [
       "<Figure size 432x288 with 1 Axes>"
      ]
     },
     "metadata": {
      "needs_background": "light"
     },
     "output_type": "display_data"
    }
   ],
   "source": [
    "# Calculate Transition Matrix\n",
    "transition_matrix = np.zeros((len(states), len(states)))\n",
    "for i, state in enumerate(states):\n",
    "    transition_matrix[i] = get_transition_probabilities(state, states)\n",
    "plt.title(\"Transition Probability Between Die Face Distributions\")\n",
    "plt.imshow(transition_matrix)"
   ]
  },
  {
   "cell_type": "code",
   "execution_count": 9,
   "metadata": {},
   "outputs": [],
   "source": [
    "import numpy.linalg\n",
    "\n",
    "def find_steps_between_states(start_state, goal_state, states, transition_matrix):\n",
    "    \"\"\"\n",
    "    Find the expected value going from start_state to goal_state through the transition_matrix\n",
    "    http://www.ryanhmckenna.com/2015/04/markov-chains-and-expected-value.html\n",
    "    \"\"\"\n",
    "    start = states.index(start_state)\n",
    "    stop = states.index(goal_state)\n",
    "    \n",
    "    g2 = np.delete(transition_matrix, stop, axis=0)\n",
    "    g2 = np.delete(g2, stop, axis=1)\n",
    "    \n",
    "    eye = np.eye(len(g2))\n",
    "    g2 = eye - g2\n",
    "    \n",
    "    if start > stop:\n",
    "        start -= 1\n",
    "    try:\n",
    "        return numpy.linalg.solve(g2, np.ones((len(g2),)))[start]\n",
    "    except:\n",
    "        return numpy.linalg.lstsq(g2, np.ones((len(g2),)))[0][start]"
   ]
  },
  {
   "cell_type": "code",
   "execution_count": 10,
   "metadata": {},
   "outputs": [
    {
     "name": "stdout",
     "output_type": "stream",
     "text": [
      "Closed Form Expected Value Number Of Rolls\n",
      "Going From Fair 6-sided Die to Single Value\n"
     ]
    },
    {
     "data": {
      "text/plain": [
       "9.65599148388557"
      ]
     },
     "execution_count": 10,
     "metadata": {},
     "output_type": "execute_result"
    }
   ],
   "source": [
    "print(\"Closed Form Expected Value Number Of Rolls\\nGoing From Fair 6-sided Die to Single Value\")\n",
    "find_steps_between_states((1, 1, 1, 1, 1, 1), (6,), states, transition_matrix)"
   ]
  },
  {
   "cell_type": "code",
   "execution_count": null,
   "metadata": {},
   "outputs": [],
   "source": []
  }
 ],
 "metadata": {
  "kernelspec": {
   "display_name": "Python 3",
   "language": "python",
   "name": "python3"
  },
  "language_info": {
   "codemirror_mode": {
    "name": "ipython",
    "version": 3
   },
   "file_extension": ".py",
   "mimetype": "text/x-python",
   "name": "python",
   "nbconvert_exporter": "python",
   "pygments_lexer": "ipython3",
   "version": "3.6.10"
  }
 },
 "nbformat": 4,
 "nbformat_minor": 4
}
