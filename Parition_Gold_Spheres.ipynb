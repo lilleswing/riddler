{
 "cells": [
  {
   "cell_type": "code",
   "execution_count": 67,
   "metadata": {},
   "outputs": [],
   "source": [
    "from collections import defaultdict\n",
    "\n",
    "def subset_sum_3(cubes):\n",
    "    total = sum(cubes)\n",
    "    goal = total // 3\n",
    "    \n",
    "    solvable = True\n",
    "    if goal * 3 != total:\n",
    "        return False\n",
    "    dp = defaultdict(list)\n",
    "    for cube in cubes:\n",
    "        keys = list(dp.keys())\n",
    "        for i in keys:\n",
    "            for solution in dp[i]:\n",
    "                if cube in solution:\n",
    "                    continue\n",
    "                solution = set(solution)\n",
    "                solution.add(cube)\n",
    "                dp[i + cube].append(solution)\n",
    "        dp[cube].append(set([cube]))\n",
    "    return dp[goal]"
   ]
  },
  {
   "cell_type": "code",
   "execution_count": 73,
   "metadata": {},
   "outputs": [],
   "source": [
    "import itertools\n",
    "def find_orthogonal_sets(paths):\n",
    "    for a,b,c in itertools.combinations(paths, r=3):\n",
    "        total_set = set()\n",
    "        total_set.update(a)\n",
    "        total_set.update(b)\n",
    "        total_set.update(c)\n",
    "        size_joined = len(total_set)\n",
    "        size_independant = len(a) + len(b) + len(c)\n",
    "        if size_joined == size_independant:\n",
    "            print(f\"Solution {a} {b} {c}\")\n",
    "            return True\n",
    "    return False\n"
   ]
  },
  {
   "cell_type": "code",
   "execution_count": 74,
   "metadata": {},
   "outputs": [
    {
     "name": "stdout",
     "output_type": "stream",
     "text": [
      "Trying 17\n",
      "Trying 18\n",
      "Trying 20\n",
      "Trying 21\n",
      "Trying 23\n",
      "Solution {2197, 1000, 27, 216, 9261, 6859, 5832} {64, 1, 1728, 512, 4096, 8000, 343, 10648} {4913, 1331, 12167, 8, 729, 125, 2744, 3375}\n",
      "CPU times: user 47.9 s, sys: 5.24 s, total: 53.2 s\n",
      "Wall time: 54.5 s\n"
     ]
    }
   ],
   "source": [
    "%%time\n",
    "cubes = [x**3 for x in range(1,50)]\n",
    "\n",
    "for i in range(3, len(cubes)):\n",
    "    paths = subset_sum_3(cubes[:i])\n",
    "    if not paths:\n",
    "        continue\n",
    "    if len(paths) <= 3:\n",
    "        continue\n",
    "    print(f\"Trying {i}\")\n",
    "    retval = find_orthogonal_sets(paths)\n",
    "    if retval:\n",
    "        break"
   ]
  },
  {
   "cell_type": "code",
   "execution_count": null,
   "metadata": {},
   "outputs": [],
   "source": []
  }
 ],
 "metadata": {
  "kernelspec": {
   "display_name": "Python 3",
   "language": "python",
   "name": "python3"
  },
  "language_info": {
   "codemirror_mode": {
    "name": "ipython",
    "version": 3
   },
   "file_extension": ".py",
   "mimetype": "text/x-python",
   "name": "python",
   "nbconvert_exporter": "python",
   "pygments_lexer": "ipython3",
   "version": "3.6.10"
  }
 },
 "nbformat": 4,
 "nbformat_minor": 4
}
