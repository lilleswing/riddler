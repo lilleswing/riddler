{
 "cells": [
  {
   "cell_type": "code",
   "execution_count": 35,
   "metadata": {},
   "outputs": [],
   "source": [
    "import random\n",
    "from collections import defaultdict\n",
    "from itertools import product\n",
    "import copy\n",
    "import matplotlib.pyplot as plt\n",
    "import pandas as pd\n",
    "\n",
    "%matplotlib inline\n",
    "\n",
    "# Map from Dice Roll To Probability of it Happening over Two Dice\n",
    "dice_probs = {}\n",
    "for d1 in range(1, 7):\n",
    "    for d2 in range(1, 7):\n",
    "        total = d1 + d2\n",
    "        if total not in dice_probs:\n",
    "            dice_probs[total] = 0\n",
    "        dice_probs[total] += 1.0/36.0\n",
    "\n",
    "# Map From Dice Roll To Possible Tiles to Flip Down\n",
    "tile_lookup = defaultdict(list)\n",
    "tiles = tuple([True for x in range(1, 10)])\n",
    "tile_values = list(range(1,10))\n",
    "for l in product([0,1], repeat=9):\n",
    "    total = 0\n",
    "    for i, elem in enumerate(l):\n",
    "        total += l[i] * tile_values[i]\n",
    "    if 2 <= total <= 12:\n",
    "        tile_lookup[total].append(l)"
   ]
  },
  {
   "cell_type": "code",
   "execution_count": 6,
   "metadata": {},
   "outputs": [],
   "source": [
    "def valid_move(move, tiles):\n",
    "    \"\"\"\n",
    "    :param move: list of int, tiles to attempt to flip down\n",
    "    :param tiles: list of int, tiles currently on the board\n",
    "    :return: Bool is the move valid for tiles on the board\n",
    "    \"\"\"\n",
    "    for i in range(len(move)):\n",
    "        if move[i] == 1 and tiles[i] != 1:\n",
    "            return False\n",
    "    return True\n",
    "\n",
    "def flip_tiles(move, tiles):\n",
    "    \"\"\"\n",
    "    :param move: list of int, tiles to attempt to flip down\n",
    "    :param tiles: list of int, tiles currently on the board\n",
    "    :return: list of int, the new board\n",
    "    \"\"\"\n",
    "    retval = []\n",
    "    for i in range(len(move)):\n",
    "        if move[i] == 1:\n",
    "            retval.append(0)\n",
    "        else:\n",
    "            retval.append(tiles[i])\n",
    "    return tuple(retval)\n",
    "\n",
    "def score_tiles(tiles):\n",
    "    \"\"\"\n",
    "    :param tiles: list of int, tiles currently on the board\n",
    "    :return: int the score of the board\n",
    "    \"\"\"\n",
    "    total = 0\n",
    "    for i in range(1, 10):\n",
    "        if tiles[i-1] == 1:\n",
    "            total += i\n",
    "    return total\n",
    "\n",
    "def get_valid_moves(tiles, roll):\n",
    "    \"\"\"\n",
    "    :param tiles: list of int, tiles currently on the board\n",
    "    :param roll: int, the roll for the player\n",
    "    :return: list of list of int, legal moves for this board state with this roll\n",
    "    \"\"\"\n",
    "    retval = []\n",
    "    for move in tile_lookup[roll]:\n",
    "        if not valid_move(move, tiles):\n",
    "            continue\n",
    "        retval.append(move)\n",
    "    return retval"
   ]
  },
  {
   "cell_type": "code",
   "execution_count": 10,
   "metadata": {},
   "outputs": [
    {
     "data": {
      "text/plain": [
       "11.157508444202621"
      ]
     },
     "execution_count": 10,
     "metadata": {},
     "output_type": "execute_result"
    }
   ],
   "source": [
    "memoize = {}\n",
    "empty_board = tuple([0 for x in range(1,10)])\n",
    "memoize[(empty_board, 0)] = 0\n",
    "def dfs(tiles, roll):\n",
    "    if (tiles, roll) in memoize:\n",
    "        return memoize[(tiles, roll)]\n",
    "    if roll == 0:\n",
    "        total = 0\n",
    "        for my_roll, prob in dice_probs.items():\n",
    "            total += dfs(tiles, my_roll) * prob\n",
    "        memoize[(tiles, roll)] = total\n",
    "        return total\n",
    "    best_score = float('inf')\n",
    "    for move in get_valid_moves(tiles, roll):\n",
    "        new_tiles = flip_tiles(move, tiles)\n",
    "        roll_score = dfs(new_tiles, 0)\n",
    "        if roll_score < best_score:\n",
    "            best_score = roll_score\n",
    "    if best_score == float('inf'):\n",
    "        best_score = score_tiles(tiles)\n",
    "    memoize[(tiles, roll)] = best_score\n",
    "    return best_score\n",
    "full_board = tuple([1 for x in range(1,10)])\n",
    "dfs(full_board, 0)"
   ]
  },
  {
   "cell_type": "code",
   "execution_count": 11,
   "metadata": {},
   "outputs": [
    {
     "name": "stdout",
     "output_type": "stream",
     "text": [
      "[9, 7.6236893875640135]\n",
      "[8, 9.24080617861096]\n",
      "[12, 9.936173208638165]\n",
      "[7, 10.825008858089767]\n",
      "[10, 11.139918487467915]\n",
      "[11, 11.194009457452708]\n",
      "[6, 11.726631321763904]\n",
      "[5, 12.514746172581951]\n",
      "[4, 13.706206147751468]\n",
      "[3, 14.31391370496678]\n",
      "[2, 15.838927661162352]\n"
     ]
    }
   ],
   "source": [
    "retval = []\n",
    "for i in range(2, 13):\n",
    "    retval.append([i, memoize[(full_board, i)]])\n",
    "retval = sorted(retval, key=lambda x: x[1])\n",
    "for elem in retval:\n",
    "    print(elem)"
   ]
  },
  {
   "cell_type": "code",
   "execution_count": 9,
   "metadata": {},
   "outputs": [
    {
     "name": "stdout",
     "output_type": "stream",
     "text": [
      "5,7, 11.351088810011365\n",
      "4,8, 10.86551320489951\n",
      "3,9, 9.936173208638165\n",
      "3,4,5, 19.424119825272232\n",
      "2,4,6, 16.650855380700772\n",
      "2,3,7, 18.03348860691968\n",
      "1,5,6, 16.13189893139596\n",
      "1,4,7, 17.85775412686921\n",
      "1,3,8, 17.06971434740639\n",
      "1,2,9, 14.689037917661604\n",
      "1,2,4,5, 22.038258744855966\n",
      "1,2,3,6, 23.84113511659808\n"
     ]
    }
   ],
   "source": [
    "def pretty_print_roll(roll):\n",
    "    s = \"\"\n",
    "    for i in range(1, 10):\n",
    "        if roll[i-1] == 1:\n",
    "            s += f'{i},'\n",
    "    return s\n",
    "\n",
    "full_board = tuple([1 for x in range(1,10)])\n",
    "for move in tile_lookup[12]:\n",
    "    new_tiles = flip_tiles(move, tiles)\n",
    "    roll_score = dfs(new_tiles, 0)\n",
    "    print(pretty_print_roll(move), roll_score)"
   ]
  },
  {
   "cell_type": "code",
   "execution_count": 46,
   "metadata": {},
   "outputs": [],
   "source": [
    "def get_move_best(board_state, possible_moves):\n",
    "    best_score = float('inf')\n",
    "    best_move = None\n",
    "    for move in possible_moves:\n",
    "        new_tiles = flip_tiles(move, board_state)\n",
    "        roll_score = dfs(new_tiles, 0)\n",
    "        if roll_score < best_score:\n",
    "            best_score = roll_score\n",
    "            best_move = move\n",
    "    return best_move\n",
    "\n",
    "def get_move_greedy(board_state, possible_moves):\n",
    "    return max(possible_moves, key=to_bin)\n",
    "\n",
    "def simulate(method=\"best\"):\n",
    "    my_tiles = tuple([1 for x in range(1,10)])\n",
    "    while True:\n",
    "        d1, d2 = random.randint(1,6), random.randint(1,6)\n",
    "        \n",
    "        possible_moves = get_valid_moves(my_tiles, d1+d2)\n",
    "        if len(possible_moves) == 0:\n",
    "            return score_tiles(my_tiles)\n",
    "        if method=='best':\n",
    "            move = get_move_best(my_tiles, possible_moves)\n",
    "        if method=='greedy':\n",
    "            move = get_move_greedy(my_tiles, possible_moves)\n",
    "        my_tiles = flip_tiles(move, my_tiles)"
   ]
  },
  {
   "cell_type": "code",
   "execution_count": 78,
   "metadata": {},
   "outputs": [],
   "source": [
    "games_played_ev = [simulate() for x in range(100_000)]\n",
    "games_played_greedy = [simulate(method='greedy') for x in range(100_000)]"
   ]
  },
  {
   "cell_type": "code",
   "execution_count": 79,
   "metadata": {},
   "outputs": [
    {
     "data": {
      "text/plain": [
       "<AxesSubplot:title={'center':'Score Distributions for Different Policies'}, xlabel='score', ylabel='Density'>"
      ]
     },
     "execution_count": 79,
     "metadata": {},
     "output_type": "execute_result"
    },
    {
     "data": {
      "image/png": "[encoded data removed]",
      "text/plain": [
       "<Figure size 1296x720 with 1 Axes>"
      ]
     },
     "metadata": {
      "needs_background": "light"
     },
     "output_type": "display_data"
    }
   ],
   "source": [
    "import seaborn as sns\n",
    "plt_df = pd.DataFrame(games_played_ev)\n",
    "plt_df.columns = ['score']\n",
    "plt_df['method'] = \"Expected Value\"\n",
    "\n",
    "tmp_df = pd.DataFrame(games_played_greedy)\n",
    "tmp_df.columns = ['score']\n",
    "tmp_df['method'] = \"Greedy\"\n",
    "plt_df = pd.concat([plt_df, tmp_df])\n",
    "plt.figure(figsize=(18,10))\n",
    "plt.grid()\n",
    "plt.title(\"Score Distributions for Different Policies\")\n",
    "sns.histplot(data=plt_df, x='score', hue='method', binwidth=1, stat='density')"
   ]
  },
  {
   "cell_type": "code",
   "execution_count": 83,
   "metadata": {},
   "outputs": [
    {
     "data": {
      "text/plain": [
       "KstestResult(statistic=0.018660000000000065, pvalue=7.412305228600443e-16)"
      ]
     },
     "execution_count": 83,
     "metadata": {},
     "output_type": "execute_result"
    }
   ],
   "source": [
    "from scipy.stats import kstest\n",
    "kstest(games_played_ev, games_played_greedy, alternative='greater')"
   ]
  },
  {
   "cell_type": "code",
   "execution_count": 118,
   "metadata": {},
   "outputs": [],
   "source": [
    "import numpy as np\n",
    "num_wins = []\n",
    "num_losses = []\n",
    "day_results = []\n",
    "for i in range(1_000):\n",
    "    ev_scores = np.random.choice(games_played_ev, size=20)\n",
    "    greedy_scores = np.random.choice(games_played_greedy, size=20)\n",
    "    wins = np.sum(ev_scores < greedy_scores)\n",
    "    losses = np.sum(ev_scores > greedy_scores)\n",
    "    num_losses.append(losses)\n",
    "    num_wins.append(wins)\n",
    "    if wins > losses:\n",
    "        day_results.append('win')\n",
    "    if losses > wins:\n",
    "        day_results.append('loss')\n",
    "    if losses == wins:\n",
    "        day_results.append('tie')"
   ]
  },
  {
   "cell_type": "code",
   "execution_count": 139,
   "metadata": {},
   "outputs": [
    {
     "data": {
      "text/plain": [
       "<AxesSubplot:title={'center':'Winning The Day With Different Strategies'}, xlabel='Result', ylabel='Count'>"
      ]
     },
     "execution_count": 139,
     "metadata": {},
     "output_type": "execute_result"
    },
    {
     "data": {
      "image/png": "[encoded data removed]",
      "text/plain": [
       "<Figure size 1296x720 with 1 Axes>"
      ]
     },
     "metadata": {
      "needs_background": "light"
     },
     "output_type": "display_data"
    }
   ],
   "source": [
    "day_results = np.array(day_results)\n",
    "table = [\n",
    "    ['Expected Value Win Day', len(np.where(day_results=='win')[0])],\n",
    "    ['Greedy Win Day', len(np.where(day_results=='loss')[0])],\n",
    "    ['Tie', len(np.where(day_results=='tie')[0])]\n",
    "]\n",
    "plt_df = pd.DataFrame(table)\n",
    "plt.figure(figsize=(18,10))\n",
    "plt.grid()\n",
    "plt.title(\"Winning The Day With Different Strategies\")\n",
    "plt_df.columns=['Result', 'Count']\n",
    "sns.barplot(data=plt_df, x='Result', y='Count', ci='sd')"
   ]
  },
  {
   "cell_type": "code",
   "execution_count": 140,
   "metadata": {},
   "outputs": [
    {
     "data": {
      "text/html": [
       "<div>\n",
       "<style scoped>\n",
       "    .dataframe tbody tr th:only-of-type {\n",
       "        vertical-align: middle;\n",
       "    }\n",
       "\n",
       "    .dataframe tbody tr th {\n",
       "        vertical-align: top;\n",
       "    }\n",
       "\n",
       "    .dataframe thead th {\n",
       "        text-align: right;\n",
       "    }\n",
       "</style>\n",
       "<table border=\"1\" class=\"dataframe\">\n",
       "  <thead>\n",
       "    <tr style=\"text-align: right;\">\n",
       "      <th></th>\n",
       "      <th>Result</th>\n",
       "      <th>Count</th>\n",
       "    </tr>\n",
       "  </thead>\n",
       "  <tbody>\n",
       "    <tr>\n",
       "      <th>0</th>\n",
       "      <td>Expected Value Win Day</td>\n",
       "      <td>493</td>\n",
       "    </tr>\n",
       "    <tr>\n",
       "      <th>1</th>\n",
       "      <td>Greedy Win Day</td>\n",
       "      <td>407</td>\n",
       "    </tr>\n",
       "    <tr>\n",
       "      <th>2</th>\n",
       "      <td>Tie</td>\n",
       "      <td>100</td>\n",
       "    </tr>\n",
       "  </tbody>\n",
       "</table>\n",
       "</div>"
      ],
      "text/plain": [
       "                   Result  Count\n",
       "0  Expected Value Win Day    493\n",
       "1          Greedy Win Day    407\n",
       "2                     Tie    100"
      ]
     },
     "execution_count": 140,
     "metadata": {},
     "output_type": "execute_result"
    }
   ],
   "source": [
    "plt_df"
   ]
  },
  {
   "cell_type": "code",
   "execution_count": 119,
   "metadata": {},
   "outputs": [
    {
     "data": {
      "text/plain": [
       "<AxesSubplot:xlabel='result', ylabel='count'>"
      ]
     },
     "execution_count": 119,
     "metadata": {},
     "output_type": "execute_result"
    },
    {
     "data": {
      "image/png": "[encoded data removed]",
      "text/plain": [
       "<Figure size 1296x720 with 1 Axes>"
      ]
     },
     "metadata": {
      "needs_background": "light"
     },
     "output_type": "display_data"
    }
   ],
   "source": [
    "df1 = pd.DataFrame(num_wins)\n",
    "df1.columns=['count']\n",
    "df1['result'] = 'EV Wins'\n",
    "\n",
    "df2 = pd.DataFrame(num_losses)\n",
    "df2.columns=['count']\n",
    "df2['result'] = 'Greedy Wins'\n",
    "\n",
    "plt.figure(figsize=(18,10))\n",
    "plt.grid()\n",
    "plt_df = pd.concat([df1, df2])\n",
    "sns.boxplot(data=plt_df, y='count', x='result')"
   ]
  },
  {
   "cell_type": "code",
   "execution_count": 108,
   "metadata": {},
   "outputs": [
    {
     "data": {
      "text/html": [
       "<div>\n",
       "<style scoped>\n",
       "    .dataframe tbody tr th:only-of-type {\n",
       "        vertical-align: middle;\n",
       "    }\n",
       "\n",
       "    .dataframe tbody tr th {\n",
       "        vertical-align: top;\n",
       "    }\n",
       "\n",
       "    .dataframe thead th {\n",
       "        text-align: right;\n",
       "    }\n",
       "</style>\n",
       "<table border=\"1\" class=\"dataframe\">\n",
       "  <thead>\n",
       "    <tr style=\"text-align: right;\">\n",
       "      <th></th>\n",
       "      <th>count</th>\n",
       "      <th>result</th>\n",
       "    </tr>\n",
       "  </thead>\n",
       "  <tbody>\n",
       "    <tr>\n",
       "      <th>0</th>\n",
       "      <td>470</td>\n",
       "      <td>EV Wins</td>\n",
       "    </tr>\n",
       "    <tr>\n",
       "      <th>1</th>\n",
       "      <td>486</td>\n",
       "      <td>EV Wins</td>\n",
       "    </tr>\n",
       "    <tr>\n",
       "      <th>2</th>\n",
       "      <td>494</td>\n",
       "      <td>EV Wins</td>\n",
       "    </tr>\n",
       "    <tr>\n",
       "      <th>3</th>\n",
       "      <td>498</td>\n",
       "      <td>EV Wins</td>\n",
       "    </tr>\n",
       "    <tr>\n",
       "      <th>4</th>\n",
       "      <td>494</td>\n",
       "      <td>EV Wins</td>\n",
       "    </tr>\n",
       "    <tr>\n",
       "      <th>...</th>\n",
       "      <td>...</td>\n",
       "      <td>...</td>\n",
       "    </tr>\n",
       "    <tr>\n",
       "      <th>995</th>\n",
       "      <td>465</td>\n",
       "      <td>Greedy Wins</td>\n",
       "    </tr>\n",
       "    <tr>\n",
       "      <th>996</th>\n",
       "      <td>488</td>\n",
       "      <td>Greedy Wins</td>\n",
       "    </tr>\n",
       "    <tr>\n",
       "      <th>997</th>\n",
       "      <td>484</td>\n",
       "      <td>Greedy Wins</td>\n",
       "    </tr>\n",
       "    <tr>\n",
       "      <th>998</th>\n",
       "      <td>453</td>\n",
       "      <td>Greedy Wins</td>\n",
       "    </tr>\n",
       "    <tr>\n",
       "      <th>999</th>\n",
       "      <td>462</td>\n",
       "      <td>Greedy Wins</td>\n",
       "    </tr>\n",
       "  </tbody>\n",
       "</table>\n",
       "<p>2000 rows × 2 columns</p>\n",
       "</div>"
      ],
      "text/plain": [
       "     count       result\n",
       "0      470      EV Wins\n",
       "1      486      EV Wins\n",
       "2      494      EV Wins\n",
       "3      498      EV Wins\n",
       "4      494      EV Wins\n",
       "..     ...          ...\n",
       "995    465  Greedy Wins\n",
       "996    488  Greedy Wins\n",
       "997    484  Greedy Wins\n",
       "998    453  Greedy Wins\n",
       "999    462  Greedy Wins\n",
       "\n",
       "[2000 rows x 2 columns]"
      ]
     },
     "execution_count": 108,
     "metadata": {},
     "output_type": "execute_result"
    }
   ],
   "source": [
    "plt_df"
   ]
  },
  {
   "cell_type": "code",
   "execution_count": 104,
   "metadata": {},
   "outputs": [
    {
     "data": {
      "text/plain": [
       "<matplotlib.legend.Legend at 0x7fa199f75a20>"
      ]
     },
     "execution_count": 104,
     "metadata": {},
     "output_type": "execute_result"
    },
    {
     "data": {
      "image/png": "[encoded data removed]",
      "text/plain": [
       "<Figure size 1080x576 with 2 Axes>"
      ]
     },
     "metadata": {
      "needs_background": "light"
     },
     "output_type": "display_data"
    }
   ],
   "source": [
    "fig, (ax1, ax2) = plt.subplots(1,2,figsize=(15,8))\n",
    "for games_played in [games_played_ev, games_played_greedy]:\n",
    "    pdf = []\n",
    "    cdf = []\n",
    "    for i in range(44):\n",
    "        num_games = len([x for x in games_played if x == i])\n",
    "        pdf.append(num_games / len(games_played))\n",
    "\n",
    "        num_games = len([x for x in games_played if x <= i])\n",
    "        cdf.append(num_games / len(games_played))\n",
    "    ax1.plot(pdf)\n",
    "    ax2.plot(cdf)\n",
    "ax1.grid()\n",
    "ax2.grid()\n",
    "\n",
    "ax1.set_title(\"Probability of Getting Score\")\n",
    "ax2.set_title(\"CDF\")\n",
    "ax1.legend(['Expected Value', 'Greedy'])\n",
    "ax2.legend(['Expected Value', 'Greedy'])\n",
    "\n"
   ]
  },
  {
   "cell_type": "code",
   "execution_count": 131,
   "metadata": {},
   "outputs": [],
   "source": [
    "# Is it ever not optimal to put down the biggest tile that you can?"
   ]
  },
  {
   "cell_type": "code",
   "execution_count": 27,
   "metadata": {},
   "outputs": [],
   "source": [
    "def to_bin(l):\n",
    "    \"\"\"\n",
    "    param l: list of int, the board state\n",
    "    return: int the binary representation of the board state\n",
    "    \"\"\"\n",
    "    l = l[::-1]\n",
    "    return int(\"\".join([str(x) for x in l]), 2)\n",
    "\n",
    "exceptions = []\n",
    "for board_state in product([0,1], repeat=9):\n",
    "    if sum(board_state) == 0:\n",
    "        continue\n",
    "    for roll in range(2, 13):\n",
    "        best_score = float('inf')\n",
    "        best_move = None\n",
    "        for move in get_valid_moves(board_state, roll):\n",
    "            new_tiles = flip_tiles(move, board_state)\n",
    "            roll_score = dfs(new_tiles, 0)\n",
    "            if roll_score < best_score:\n",
    "                best_score = roll_score\n",
    "                best_move = move\n",
    "        \n",
    "        if best_score == float('inf'):\n",
    "            continue\n",
    "        \n",
    "        biggest_move = max(get_valid_moves(board_state, roll), key=to_bin)\n",
    "        \n",
    "        if biggest_move != best_move:\n",
    "            better_option = flip_tiles(best_move, board_state)\n",
    "            greedy_option = flip_tiles(biggest_move, board_state)\n",
    "            exceptions.append([pretty_print_roll(board_state), roll, pretty_print_roll(best_move), dfs(better_option, 0), dfs(greedy_option, 0)])\n",
    "\n",
    "            exceptions = sorted(exceptions, key=lambda x: x[-2] - x[1])\n",
    "df = pd.DataFrame(exceptions[:5])\n",
    "df.columns = [\"Board\", 'Roll', 'Best Move', \"Expected Value\", \"Greedy Value\"]\n",
    "df"
   ]
  },
  {
   "cell_type": "code",
   "execution_count": null,
   "metadata": {},
   "outputs": [],
   "source": [
    "# We can calculate the probability of winning a game and probability of tieing a game for every possible score\n",
    "# We can do this via sampling"
   ]
  },
  {
   "cell_type": "code",
   "execution_count": 194,
   "metadata": {},
   "outputs": [],
   "source": [
    "class P2Policy(object):\n",
    "    def __init__(self, to_beat):\n",
    "        self.to_beat = to_beat\n",
    "        self.memoize_win_prob = {}\n",
    "        self.wins = None\n",
    "        self.losses = None\n",
    "        self.ties = None\n",
    "        \n",
    "    def create_policy(self):\n",
    "        full_board = tuple([1 for x in range(1,10)])\n",
    "        return self._dfs_win_prob(full_board, 0, self.to_beat)\n",
    "        \n",
    "    def _dfs_win_prob(self, tiles, roll, to_beat):\n",
    "        if (tiles, roll) in self.memoize_win_prob:\n",
    "            return self.memoize_win_prob[(tiles, roll)]\n",
    "        if roll == 0:\n",
    "            total = 0\n",
    "            for my_roll, prob in dice_probs.items():\n",
    "                total += self._dfs_win_prob(tiles, my_roll, to_beat) * prob\n",
    "            memoize[(tiles, roll)] = total\n",
    "            return total\n",
    "        best_score = -1\n",
    "        for move in get_valid_moves(tiles, roll):\n",
    "            new_tiles = flip_tiles(move, tiles)\n",
    "            roll_score = self._dfs_win_prob(new_tiles, 0, to_beat)\n",
    "            if roll_score > best_score:\n",
    "                best_score = roll_score\n",
    "        if best_score == -1:\n",
    "            best_score = float(score_tiles(tiles) <= to_beat)\n",
    "        self.memoize_win_prob[(tiles, roll)] = best_score\n",
    "        return best_score\n",
    "\n",
    "    def get_stats(self):\n",
    "        if self.wins is not None:\n",
    "            return self.wins / 10_000, self.losses / 10_000, self.ties / 10_000\n",
    "        wins, losses, ties = 0, 0, 0\n",
    "        for i in range(10_000):\n",
    "            result = self.simulate()\n",
    "            if result < self.to_beat:\n",
    "                wins += 1\n",
    "            if result > self.to_beat:\n",
    "                losses += 1\n",
    "            if result == self.to_beat:\n",
    "                ties += 1\n",
    "        self.wins, self.losses, self.ties = wins, losses, ties\n",
    "        return wins / 10_000, losses / 10_000, ties / 10_000\n",
    "    \n",
    "    def get_move_best(self, board_state, possible_moves):\n",
    "        best_score = -1\n",
    "        best_move = None\n",
    "        for move in possible_moves:\n",
    "            new_tiles = flip_tiles(move, board_state)\n",
    "            roll_score = self._dfs_win_prob(new_tiles, 0, self.to_beat)\n",
    "            if roll_score > best_score:\n",
    "                best_score = roll_score\n",
    "                best_move = move\n",
    "        return best_move\n",
    "\n",
    "\n",
    "    def simulate(self):\n",
    "        my_tiles = tuple([1 for x in range(1,10)])\n",
    "        while True:\n",
    "            d1, d2 = random.randint(1,6), random.randint(1,6)\n",
    "\n",
    "            possible_moves = get_valid_moves(my_tiles, d1+d2)\n",
    "            if len(possible_moves) == 0:\n",
    "                return score_tiles(my_tiles)\n",
    "            move = self.get_move_best(my_tiles, possible_moves)\n",
    "            my_tiles = flip_tiles(move, my_tiles)"
   ]
  },
  {
   "cell_type": "code",
   "execution_count": 195,
   "metadata": {},
   "outputs": [],
   "source": [
    "expected_value_score_pdf = []\n",
    "for i in range(0, max(games_played_ev)+1):\n",
    "    my_games = len([x for x in games_played_ev if x == i])\n",
    "    expected_value_score_pdf.append(my_games/len(games_played_ev))"
   ]
  },
  {
   "cell_type": "code",
   "execution_count": 206,
   "metadata": {},
   "outputs": [
    {
     "name": "stdout",
     "output_type": "stream",
     "text": [
      "Calculating Policy for 0\n",
      "Calculating Policy for 5\n",
      "Calculating Policy for 10\n",
      "Calculating Policy for 15\n",
      "Calculating Policy for 20\n",
      "Calculating Policy for 25\n",
      "Calculating Policy for 30\n",
      "Calculating Policy for 35\n",
      "Calculating Policy for 40\n"
     ]
    },
    {
     "data": {
      "text/plain": [
       "(0.47731662299999983, 0.47755383199999984, 0.045129544999999986)"
      ]
     },
     "execution_count": 206,
     "metadata": {},
     "output_type": "execute_result"
    }
   ],
   "source": [
    "total_win, total_loss, total_tie = 0, 0, 0\n",
    "policies = []\n",
    "for i in range(0, max(games_played_ev)+1):\n",
    "    if i % 5 == 0:\n",
    "        print(f\"Calculating Policy for {i}\")\n",
    "    policy = P2Policy(i)\n",
    "    policies.append(policy)\n",
    "    \n",
    "    w, l, t = policy.get_stats()\n",
    "    prob_of_case = expected_value_score_pdf[i]\n",
    "    total_win += w * prob_of_case\n",
    "    total_loss += l * prob_of_case\n",
    "    total_tie += t * prob_of_case\n",
    "total_win, total_loss, total_tie"
   ]
  },
  {
   "cell_type": "code",
   "execution_count": 209,
   "metadata": {},
   "outputs": [
    {
     "name": "stdout",
     "output_type": "stream",
     "text": [
      "0.479137 0.479201 0.041662\n"
     ]
    }
   ],
   "source": [
    "size=1_000_000\n",
    "g1 = np.random.choice(games_played_ev, size=size)\n",
    "g2 = np.random.choice(games_played_ev, size=size)\n",
    "self_wins = len(np.where(g1 > g2)[0])\n",
    "self_loss = len(np.where(g1 < g2)[0])\n",
    "self_tie = len(np.where(g1 == g2)[0])\n",
    "print(self_wins / size, self_loss / size, self_tie / size)"
   ]
  },
  {
   "cell_type": "code",
   "execution_count": null,
   "metadata": {},
   "outputs": [],
   "source": []
  }
 ],
 "metadata": {
  "kernelspec": {
   "display_name": "Python 3",
   "language": "python",
   "name": "python3"
  },
  "language_info": {
   "codemirror_mode": {
    "name": "ipython",
    "version": 3
   },
   "file_extension": ".py",
   "mimetype": "text/x-python",
   "name": "python",
   "nbconvert_exporter": "python",
   "pygments_lexer": "ipython3",
   "version": "3.6.10"
  }
 },
 "nbformat": 4,
 "nbformat_minor": 4
}
